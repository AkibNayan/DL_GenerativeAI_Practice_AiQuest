{
  "cells": [
    {
      "cell_type": "markdown",
      "source": [
        "## Train Fashion MNIST Data with Pytorch"
      ],
      "metadata": {
        "id": "rxsLVtaql95B"
      }
    },
    {
      "cell_type": "code",
      "source": [
        "#import necessary libraries\n",
        "import torch\n",
        "import torch.nn as nn\n",
        "import torch.optim as optim\n",
        "import torchvision\n",
        "import torchvision.transforms as transforms\n",
        "import matplotlib.pyplot as plt\n",
        "import numpy as np"
      ],
      "metadata": {
        "id": "0sH7cokemFNQ"
      },
      "execution_count": null,
      "outputs": []
    },
    {
      "cell_type": "code",
      "source": [
        "#Data Import, Preparation and Preprocessing, Transformation Pipeline\n",
        "#Define transformation for training and testing set\n",
        "transform = transforms.Compose([\n",
        "    transforms.ToTensor(),     #Convert input images to pytorch tensor\n",
        "    transforms.Normalize((0.5,), (0.5,))    #Normalize the data to [-1, 1]\n",
        "])"
      ],
      "metadata": {
        "id": "bHpn-V3Wqn4w"
      },
      "execution_count": null,
      "outputs": []
    },
    {
      "cell_type": "code",
      "source": [
        "#Download and Load the training dataset\n",
        "trainset = torchvision.datasets.FashionMNIST(\n",
        "    root='./data',\n",
        "    train=True,\n",
        "    download=True,\n",
        "    transform=transform\n",
        ")\n",
        "trainloader = torch.utils.data.DataLoader(\n",
        "    trainset,           #Dataset to load\n",
        "    batch_size=64,      #Number of sample per batch\n",
        "    shuffle=True        #Shuffle the data at every epoch\n",
        ")"
      ],
      "metadata": {
        "id": "L_g-qJrxvFKo"
      },
      "execution_count": null,
      "outputs": []
    },
    {
      "cell_type": "code",
      "source": [
        "#Download and load the testing dataset\n",
        "testset = torchvision.datasets.FashionMNIST(\n",
        "    root='./data',\n",
        "    train=False,\n",
        "    download=True,\n",
        "    transform=transform\n",
        "\n",
        ")\n",
        "testloader = torch.utils.data.DataLoader(\n",
        "    testset,\n",
        "    batch_size=64,\n",
        "    shuffle=False\n",
        ")\n"
      ],
      "metadata": {
        "id": "pQ_Pe4wEHB5x"
      },
      "execution_count": null,
      "outputs": []
    },
    {
      "cell_type": "code",
      "source": [
        "#Understanding the data Map neumaric labels to class names\n",
        "classes = ['T-shirt/top', 'Trouser', 'Pullover', 'Dress', 'Coat', 'Sandal', 'Shirt', 'Sneaker', 'Bag', 'Ankle boot']\n",
        "\n",
        "#Function to show an image\n",
        "def imshow(img):\n",
        "  img = img/2 + 0.5 #Unnormalize the image\n",
        "  npimg = img.numpy()\n",
        "  plt.imshow(np.squeeze(npimg), cmap='gray')\n",
        "  plt.axis('off')\n",
        "  plt.show()\n",
        "\n",
        "#Gets some random training image\n",
        "dataiter = iter(trainloader)\n",
        "images, labels = next(dataiter)\n",
        "images"
      ],
      "metadata": {
        "colab": {
          "base_uri": "https://localhost:8080/"
        },
        "id": "9gU1mhWPR5iM",
        "outputId": "dfed5540-9b2d-4806-92f5-11f890980213"
      },
      "execution_count": null,
      "outputs": [
        {
          "output_type": "execute_result",
          "data": {
            "text/plain": [
              "tensor([[[[-1.0000, -1.0000, -1.0000,  ..., -1.0000, -1.0000, -1.0000],\n",
              "          [-1.0000, -1.0000, -1.0000,  ..., -0.1137, -1.0000, -0.9922],\n",
              "          [-1.0000, -1.0000, -1.0000,  ...,  0.0588, -1.0000, -1.0000],\n",
              "          ...,\n",
              "          [-1.0000, -0.8431,  0.5529,  ..., -0.9922, -1.0000, -1.0000],\n",
              "          [-1.0000, -0.8196, -0.7725,  ..., -1.0000, -1.0000, -1.0000],\n",
              "          [-1.0000, -1.0000, -1.0000,  ..., -1.0000, -1.0000, -1.0000]]],\n",
              "\n",
              "\n",
              "        [[[-1.0000, -1.0000, -1.0000,  ..., -1.0000, -1.0000, -1.0000],\n",
              "          [-1.0000, -1.0000, -1.0000,  ..., -1.0000, -1.0000, -1.0000],\n",
              "          [-1.0000, -1.0000, -1.0000,  ..., -1.0000, -1.0000, -1.0000],\n",
              "          ...,\n",
              "          [-1.0000, -1.0000, -1.0000,  ..., -1.0000, -1.0000, -1.0000],\n",
              "          [-1.0000, -1.0000, -1.0000,  ..., -1.0000, -1.0000, -1.0000],\n",
              "          [-1.0000, -1.0000, -1.0000,  ..., -1.0000, -1.0000, -1.0000]]],\n",
              "\n",
              "\n",
              "        [[[-1.0000, -1.0000, -1.0000,  ..., -1.0000, -1.0000, -1.0000],\n",
              "          [-1.0000, -1.0000, -1.0000,  ..., -1.0000, -1.0000, -1.0000],\n",
              "          [-1.0000, -1.0000, -1.0000,  ..., -1.0000, -1.0000, -1.0000],\n",
              "          ...,\n",
              "          [-1.0000, -1.0000, -1.0000,  ..., -1.0000, -1.0000, -1.0000],\n",
              "          [-1.0000, -1.0000, -1.0000,  ..., -1.0000, -1.0000, -1.0000],\n",
              "          [-1.0000, -1.0000, -1.0000,  ..., -1.0000, -1.0000, -1.0000]]],\n",
              "\n",
              "\n",
              "        ...,\n",
              "\n",
              "\n",
              "        [[[-1.0000, -1.0000, -1.0000,  ..., -1.0000, -1.0000, -1.0000],\n",
              "          [-1.0000, -1.0000, -1.0000,  ..., -1.0000, -1.0000, -1.0000],\n",
              "          [-1.0000, -1.0000, -1.0000,  ..., -1.0000, -1.0000, -1.0000],\n",
              "          ...,\n",
              "          [-1.0000, -1.0000, -0.6157,  ..., -0.0118, -1.0000, -0.9843],\n",
              "          [-0.9843, -1.0000, -1.0000,  ..., -1.0000, -1.0000, -1.0000],\n",
              "          [-1.0000, -1.0000, -1.0000,  ..., -1.0000, -1.0000, -1.0000]]],\n",
              "\n",
              "\n",
              "        [[[-1.0000, -1.0000, -1.0000,  ..., -1.0000, -1.0000, -1.0000],\n",
              "          [-1.0000, -1.0000, -1.0000,  ..., -1.0000, -1.0000, -1.0000],\n",
              "          [-1.0000, -1.0000, -1.0000,  ..., -1.0000, -1.0000, -1.0000],\n",
              "          ...,\n",
              "          [-1.0000, -1.0000, -1.0000,  ..., -1.0000, -1.0000, -1.0000],\n",
              "          [-1.0000, -1.0000, -1.0000,  ..., -1.0000, -1.0000, -1.0000],\n",
              "          [-1.0000, -1.0000, -1.0000,  ..., -1.0000, -1.0000, -1.0000]]],\n",
              "\n",
              "\n",
              "        [[[-1.0000, -1.0000, -1.0000,  ..., -1.0000, -1.0000, -1.0000],\n",
              "          [-1.0000, -1.0000, -1.0000,  ..., -1.0000, -1.0000, -1.0000],\n",
              "          [-1.0000, -1.0000, -1.0000,  ..., -1.0000, -1.0000, -1.0000],\n",
              "          ...,\n",
              "          [-1.0000, -1.0000, -1.0000,  ..., -1.0000, -1.0000, -1.0000],\n",
              "          [-1.0000, -1.0000, -1.0000,  ..., -1.0000, -1.0000, -1.0000],\n",
              "          [-1.0000, -1.0000, -1.0000,  ..., -1.0000, -1.0000, -1.0000]]]])"
            ]
          },
          "metadata": {},
          "execution_count": 16
        }
      ]
    },
    {
      "cell_type": "code",
      "source": [
        "len(labels)"
      ],
      "metadata": {
        "colab": {
          "base_uri": "https://localhost:8080/"
        },
        "id": "kCr0mVVAby3_",
        "outputId": "0493525b-c04f-45b8-cfd9-c1539d4f9bdc"
      },
      "execution_count": null,
      "outputs": [
        {
          "output_type": "execute_result",
          "data": {
            "text/plain": [
              "64"
            ]
          },
          "metadata": {},
          "execution_count": 17
        }
      ]
    },
    {
      "cell_type": "code",
      "source": [
        "labels"
      ],
      "metadata": {
        "colab": {
          "base_uri": "https://localhost:8080/"
        },
        "id": "5N2hdy0ZdnLb",
        "outputId": "cc4b74d8-aa88-4c4e-e634-e5aa98d45ac4"
      },
      "execution_count": null,
      "outputs": [
        {
          "output_type": "execute_result",
          "data": {
            "text/plain": [
              "tensor([8, 0, 5, 3, 7, 8, 4, 1, 0, 0, 2, 3, 9, 0, 4, 3, 0, 0, 8, 3, 5, 5, 6, 7,\n",
              "        6, 7, 1, 3, 7, 4, 1, 7, 6, 2, 9, 0, 5, 2, 0, 0, 3, 2, 9, 5, 5, 5, 0, 2,\n",
              "        5, 0, 1, 2, 7, 6, 1, 8, 4, 3, 4, 5, 2, 9, 0, 2])"
            ]
          },
          "metadata": {},
          "execution_count": 18
        }
      ]
    },
    {
      "cell_type": "code",
      "source": [
        "#Show an image\n",
        "imshow(images[0])\n",
        "print(\"Label: \",classes[labels[0]])"
      ],
      "metadata": {
        "colab": {
          "base_uri": "https://localhost:8080/",
          "height": 423
        },
        "id": "xTpdT6rpcqXI",
        "outputId": "28fa3404-9112-402c-a93b-617ada848b73"
      },
      "execution_count": null,
      "outputs": [
        {
          "output_type": "display_data",
          "data": {
            "text/plain": [
              "<Figure size 640x480 with 1 Axes>"
            ],
            "image/png": "[encoded data removed]"
          },
          "metadata": {}
        },
        {
          "output_type": "stream",
          "name": "stdout",
          "text": [
            "Label:  Bag\n"
          ]
        }
      ]
    },
    {
      "cell_type": "markdown",
      "source": [
        "### Defining Neural Network with Dropout Layer"
      ],
      "metadata": {
        "id": "B6rBQpJTeNxf"
      }
    },
    {
      "cell_type": "code",
      "source": [
        "class NetWithDropout(nn.Module):\n",
        "  def __init__(self):\n",
        "    super(NetWithDropout, self).__init__()\n",
        "\n",
        "    self.fc1 = nn.Linear(28*28, 256)\n",
        "    self.dropout1 = nn.Dropout(0.5)\n",
        "    self.relu1 = nn.ReLU()\n",
        "\n",
        "    self.fc2 = nn.Linear(256, 128)\n",
        "    self.dropout2 = nn.Dropout(0.5)\n",
        "    self.relu2 = nn.ReLU()\n",
        "\n",
        "    self.fc3 = nn.Linear(128, 64)\n",
        "    self.dropout3 = nn.Dropout(0.5)\n",
        "    self.relu3 = nn.ReLU()\n",
        "\n",
        "    self.fc4 = nn.Linear(64, 10)      #Output Layer with 10 classes\n",
        "\n",
        "  def forward(self, x):\n",
        "    x = x.view(-1, 28*28)         #Flatten the image\n",
        "    x = self.dropout1(self.relu1(self.fc1(x)))\n",
        "    x = self.dropout2(self.relu2(self.fc2(x)))\n",
        "    x = self.dropout3(self.relu3(self.fc3(x)))\n",
        "\n",
        "    x = self.fc4(x)       #Output layer(no activation, use crossentropy loss)\n",
        "\n",
        "    return x\n",
        "\n",
        "#Initialize the network with dropout\n",
        "net = NetWithDropout()\n",
        "\n",
        "#Choose loss function and optimizer\n",
        "criterion = nn.CrossEntropyLoss()\n",
        "optimizer = optim.Adam(net.parameters(), lr=0.001, weight_decay=0.001)"
      ],
      "metadata": {
        "id": "IftAQE9-eTM7"
      },
      "execution_count": null,
      "outputs": []
    },
    {
      "cell_type": "code",
      "source": [
        "#Training Parameters and Variable\n",
        "num_epochs = 10\n",
        "train_losses = []\n",
        "val_losses = []\n",
        "best_val_loss = float('inf')\n",
        "patience = 3      #Early stopping patience\n",
        "trigger_times = 0\n",
        "\n",
        "#Training loop with early stopping\n",
        "for epoch in range(num_epochs):\n",
        "  net.train()       #Set the model into training mode\n",
        "  running_train_loss = 0.0\n",
        "  for inputs, labels in trainloader:\n",
        "    optimizer.zero_grad()     #Set Zero the parameter gradients of the model\n",
        "    outputs = net(inputs)\n",
        "    loss = criterion(outputs, labels)\n",
        "    loss.backward()       #Backward Pass\n",
        "    optimizer.step()      #Update the weights\n",
        "    running_train_loss += loss.item()     #retrieve the scaler value of the loss tensor\n",
        "  train_loss = running_train_loss / len(trainloader)\n",
        "  train_losses.append(train_loss)\n",
        "\n",
        "  net.eval()    #Set the model into evaluation mode\n",
        "  running_val_loss = 0.0\n",
        "  with torch.no_grad():    # Make sure no gradients are computed or stored.\n",
        "    for inputs, labels in testloader:\n",
        "      outputs = net(inputs)\n",
        "      loss = criterion(outputs, labels)\n",
        "      running_val_loss += loss.item()     #retrieve the scaler value of the loss tensor\n",
        "  val_loss = running_val_loss / len(testloader)\n",
        "  val_losses.append(val_loss)\n",
        "  print(f'Epoch [{epoch + 1} / {num_epochs}], Training Loss: {train_loss:.4f}, Validation loss: {val_loss:.4f}')\n",
        "\n",
        "  #Early Stopping\n",
        "  if val_loss < best_val_loss:\n",
        "    best_val_loss = val_loss\n",
        "    trigger_times = 0\n",
        "    #Save the model checkpoint\n",
        "    torch.save(net.state_dict(), 'best_model.pth')\n",
        "  else:\n",
        "    trigger_times += 1\n",
        "    if trigger_times >= patience:\n",
        "      print(f'Early stopping at epoch {epoch + 1}')\n",
        "      break\n"
      ],
      "metadata": {
        "id": "WodCnBrK0mXk",
        "colab": {
          "base_uri": "https://localhost:8080/"
        },
        "outputId": "90523202-02ed-40be-9f94-2733ad4be093"
      },
      "execution_count": null,
      "outputs": [
        {
          "output_type": "stream",
          "name": "stdout",
          "text": [
            "Epoch [1 / 10], Training Loss: 0.5119, Validation loss: 0.4116\n",
            "Epoch [2 / 10], Training Loss: 0.5133, Validation loss: 0.4142\n",
            "Epoch [3 / 10], Training Loss: 0.5183, Validation loss: 0.4291\n",
            "Epoch [4 / 10], Training Loss: 0.5120, Validation loss: 0.4065\n",
            "Epoch [5 / 10], Training Loss: 0.5148, Validation loss: 0.4192\n",
            "Epoch [6 / 10], Training Loss: 0.5114, Validation loss: 0.4082\n",
            "Epoch [7 / 10], Training Loss: 0.5090, Validation loss: 0.4144\n",
            "Early stopping at epoch 7\n"
          ]
        }
      ]
    },
    {
      "cell_type": "code",
      "source": [
        "#Loading the best model\n",
        "net.load_state_dict(torch.load('best_model.pth'))"
      ],
      "metadata": {
        "colab": {
          "base_uri": "https://localhost:8080/"
        },
        "id": "hkSqFtw5pQGk",
        "outputId": "4a2dbade-d68f-4880-cb85-49127dc17b79"
      },
      "execution_count": null,
      "outputs": [
        {
          "output_type": "stream",
          "name": "stderr",
          "text": [
            "<ipython-input-26-2f2aa681c5b8>:2: FutureWarning: You are using `torch.load` with `weights_only=False` (the current default value), which uses the default pickle module implicitly. It is possible to construct malicious pickle data which will execute arbitrary code during unpickling (See https://github.com/pytorch/pytorch/blob/main/SECURITY.md#untrusted-models for more details). In a future release, the default value for `weights_only` will be flipped to `True`. This limits the functions that could be executed during unpickling. Arbitrary objects will no longer be allowed to be loaded via this mode unless they are explicitly allowlisted by the user via `torch.serialization.add_safe_globals`. We recommend you start setting `weights_only=True` for any use case where you don't have full control of the loaded file. Please open an issue on GitHub for any issues related to this experimental feature.\n",
            "  net.load_state_dict(torch.load('best_model.pth'))\n"
          ]
        },
        {
          "output_type": "execute_result",
          "data": {
            "text/plain": [
              "<All keys matched successfully>"
            ]
          },
          "metadata": {},
          "execution_count": 26
        }
      ]
    },
    {
      "cell_type": "code",
      "source": [
        "#Plotting the losses\n",
        "plt.plot(train_losses, label='Training Loss')\n",
        "plt.plot(val_losses, label='Validation Loss')\n",
        "plt.xlabel('Epoch')\n",
        "plt.ylabel('Losses')\n",
        "plt.title('Training and Validation Losses')\n",
        "plt.legend()\n",
        "plt.grid(True)\n",
        "plt.show()"
      ],
      "metadata": {
        "colab": {
          "base_uri": "https://localhost:8080/",
          "height": 472
        },
        "id": "C56hlW5l2bBD",
        "outputId": "e730314b-6723-4e92-b4bc-db1818714261"
      },
      "execution_count": null,
      "outputs": [
        {
          "output_type": "display_data",
          "data": {
            "text/plain": [
              "<Figure size 640x480 with 1 Axes>"
            ],
            "image/png": "[encoded data removed]"
          },
          "metadata": {}
        }
      ]
    },
    {
      "cell_type": "code",
      "source": [
        "#Evaluating Final Model\n",
        "def evaluate_network():\n",
        "  net.eval()\n",
        "  correct = 0\n",
        "  total = 0\n",
        "  class_correct = [0] * 10\n",
        "  class_total = [0] * 10\n",
        "  with torch.no_grad():\n",
        "    for inputs, labels in testloader:\n",
        "      outputs = net(inputs)\n",
        "      _, predicted = torch.max(outputs, 1)\n",
        "      total += labels.size(0)\n",
        "      correct += (predicted == labels).sum().item()\n",
        "      # Per-class accuracy\n",
        "      c = (predicted == labels).squeeze()\n",
        "      for i in range(len(labels)):\n",
        "          label = labels[i]\n",
        "          class_correct[label] += c[i].item()\n",
        "          class_total[label] += 1\n",
        "\n",
        "  print('Accuracy of the network on the test images: %d %%' % (100 * correct / total))\n",
        "  # Print accuracy for each class\n",
        "  for i in range(10):\n",
        "      if class_total[i] > 0:\n",
        "          print(f'Accuracy of {classes[i]:>10s}: {100 * class_correct[i] / class_total[i]:.2f}%')\n",
        "      else:\n",
        "          print(f'Accuracy of {classes[i]:>10s}: N/A (no samples)')\n",
        "  # Call the evaluation function\n",
        "  evaluate_network()"
      ],
      "metadata": {
        "id": "oY13jY4S230a"
      },
      "execution_count": null,
      "outputs": []
    },
    {
      "cell_type": "markdown",
      "source": [
        "### Create the scenario of exploding gradient decent and implement gradient clipping"
      ],
      "metadata": {
        "id": "jFQv28O35_5Y"
      }
    },
    {
      "cell_type": "code",
      "source": [
        "#import necessary libraries\n",
        "import torch\n",
        "import torch.nn as nn\n",
        "import torch.optim as optim\n",
        "import torchvision\n",
        "import torchvision.transforms as transforms\n",
        "import matplotlib.pyplot as plt\n",
        "import numpy as np"
      ],
      "metadata": {
        "id": "5BNouOLK51oz"
      },
      "execution_count": null,
      "outputs": []
    },
    {
      "cell_type": "code",
      "source": [
        "#Data Import, preparation and preprocessing\n",
        "#Define transformation pipeline for the training and testing set\n",
        "transform = transforms.Compose([\n",
        "    transforms.ToTensor(),                 #Converts image into pytorch tensor and scale the image from [0, 255] to [0, 1]\n",
        "    transforms.Normalize((0.5,), (0.5,))  #Normalize the data to [-1, 1]\n",
        "])"
      ],
      "metadata": {
        "id": "WhnRrN6-6nEZ"
      },
      "execution_count": null,
      "outputs": []
    },
    {
      "cell_type": "code",
      "source": [
        "#Download and load the training data\n",
        "trainset = torchvision.datasets.FashionMNIST(\n",
        "    root='./data',\n",
        "    train=True,\n",
        "    download=True,\n",
        "    transform=transform\n",
        ")\n",
        "trainloader = torch.utils.data.DataLoader(\n",
        "    trainset,\n",
        "    batch_size=64,\n",
        "    shuffle=True\n",
        ")\n",
        "#Download and load the testing data\n",
        "testset = torchvision.datasets.FashionMNIST(\n",
        "    root='./data',\n",
        "    train=False,\n",
        "    download=True,\n",
        "    transform=transform\n",
        ")\n",
        "testloader = torch.utils.data.DataLoader(\n",
        "    testset,\n",
        "    batch_size=64,\n",
        "    shuffle=False\n",
        ")"
      ],
      "metadata": {
        "colab": {
          "base_uri": "https://localhost:8080/"
        },
        "id": "DN-D4SIW7NQ6",
        "outputId": "2dec8945-0446-4962-da56-4d649ec6c19a"
      },
      "execution_count": null,
      "outputs": [
        {
          "output_type": "stream",
          "name": "stdout",
          "text": [
            "Downloading http://fashion-mnist.s3-website.eu-central-1.amazonaws.com/train-images-idx3-ubyte.gz\n",
            "Downloading http://fashion-mnist.s3-website.eu-central-1.amazonaws.com/train-images-idx3-ubyte.gz to ./data/FashionMNIST/raw/train-images-idx3-ubyte.gz\n"
          ]
        },
        {
          "output_type": "stream",
          "name": "stderr",
          "text": [
            "100%|██████████| 26.4M/26.4M [00:02<00:00, 9.77MB/s]\n"
          ]
        },
        {
          "output_type": "stream",
          "name": "stdout",
          "text": [
            "Extracting ./data/FashionMNIST/raw/train-images-idx3-ubyte.gz to ./data/FashionMNIST/raw\n",
            "\n",
            "Downloading http://fashion-mnist.s3-website.eu-central-1.amazonaws.com/train-labels-idx1-ubyte.gz\n",
            "Downloading http://fashion-mnist.s3-website.eu-central-1.amazonaws.com/train-labels-idx1-ubyte.gz to ./data/FashionMNIST/raw/train-labels-idx1-ubyte.gz\n"
          ]
        },
        {
          "output_type": "stream",
          "name": "stderr",
          "text": [
            "100%|██████████| 29.5k/29.5k [00:00<00:00, 176kB/s]\n"
          ]
        },
        {
          "output_type": "stream",
          "name": "stdout",
          "text": [
            "Extracting ./data/FashionMNIST/raw/train-labels-idx1-ubyte.gz to ./data/FashionMNIST/raw\n",
            "\n",
            "Downloading http://fashion-mnist.s3-website.eu-central-1.amazonaws.com/t10k-images-idx3-ubyte.gz\n",
            "Downloading http://fashion-mnist.s3-website.eu-central-1.amazonaws.com/t10k-images-idx3-ubyte.gz to ./data/FashionMNIST/raw/t10k-images-idx3-ubyte.gz\n"
          ]
        },
        {
          "output_type": "stream",
          "name": "stderr",
          "text": [
            "100%|██████████| 4.42M/4.42M [00:01<00:00, 3.31MB/s]\n"
          ]
        },
        {
          "output_type": "stream",
          "name": "stdout",
          "text": [
            "Extracting ./data/FashionMNIST/raw/t10k-images-idx3-ubyte.gz to ./data/FashionMNIST/raw\n",
            "\n",
            "Downloading http://fashion-mnist.s3-website.eu-central-1.amazonaws.com/t10k-labels-idx1-ubyte.gz\n",
            "Downloading http://fashion-mnist.s3-website.eu-central-1.amazonaws.com/t10k-labels-idx1-ubyte.gz to ./data/FashionMNIST/raw/t10k-labels-idx1-ubyte.gz\n"
          ]
        },
        {
          "output_type": "stream",
          "name": "stderr",
          "text": [
            "100%|██████████| 5.15k/5.15k [00:00<00:00, 6.00MB/s]"
          ]
        },
        {
          "output_type": "stream",
          "name": "stdout",
          "text": [
            "Extracting ./data/FashionMNIST/raw/t10k-labels-idx1-ubyte.gz to ./data/FashionMNIST/raw\n",
            "\n"
          ]
        },
        {
          "output_type": "stream",
          "name": "stderr",
          "text": [
            "\n"
          ]
        }
      ]
    },
    {
      "cell_type": "code",
      "source": [
        "#Map numeric labels to class names\n",
        "classes = ['T-shirt/top', 'Trouser', 'Pullover', 'Dress', 'Coat',\n",
        "           'Sandal', 'Shirt', 'Sneaker', 'Bag', 'Ankle boot']\n",
        "\n",
        "#Defining Neural Network\n",
        "class SimpleNet(nn.Module):\n",
        "  def __init__(self):\n",
        "    super(SimpleNet, self).__init__()\n",
        "\n",
        "    self.fc1 = nn.Linear(28*28, 512)\n",
        "    self.relu1 = nn.ReLU()\n",
        "    self.fc2 = nn.Linear(512, 256)\n",
        "    self.relu2 = nn.ReLU()\n",
        "    self.fc3 = nn.Linear(256, 128)\n",
        "    self.relu3 = nn.ReLU()\n",
        "    self.fc4 = nn.Linear(128, 64)\n",
        "    self.relu4 = nn.ReLU()\n",
        "    self.fc5 = nn.Linear(64, 10)    #Output Layer for 10 classes\n",
        "\n",
        "  def forward(self, x):\n",
        "    x = x.view(-1, 28*28)\n",
        "    x = self.relu1(self.fc1(x))\n",
        "    x = self.relu2(self.fc2(x))\n",
        "    x = self.relu3(self.fc3(x))\n",
        "    x = self.relu4(self.fc4(x))\n",
        "    x = self.fc5(x)\n",
        "    return x\n"
      ],
      "metadata": {
        "id": "k-KPnIvF8Gij"
      },
      "execution_count": null,
      "outputs": []
    },
    {
      "cell_type": "code",
      "source": [
        "#Demonstrating the exploding gradient problem\n",
        "def train_without_clipping(net, optimizer, criterion, num_epochs=5):\n",
        "  print(\"\\nTraining without Clipping\")\n",
        "  net.train()\n",
        "\n",
        "  train_losses = []\n",
        "  for epoch in range(num_epochs):\n",
        "    running_loss = 0.0\n",
        "    for inputs, labels in trainloader:\n",
        "      optimizer.zero_grad()\n",
        "      outputs = net(inputs)\n",
        "      loss = criterion(outputs, labels)\n",
        "      loss.backward()\n",
        "      optimizer.step()\n",
        "      running_loss += loss.item()   #retrieve the scaler value of loss tensor\n",
        "    epoch_loss = running_loss / len(trainloader)\n",
        "    train_losses.append(epoch_loss)\n",
        "    print(f'Epoch [{epoch + 1} / {num_epochs}], Loss: {epoch_loss:.4f}')\n",
        "\n",
        "  print('Finished Training without Clipping')\n",
        "  return train_losses"
      ],
      "metadata": {
        "id": "776wlEn9-I6Q"
      },
      "execution_count": null,
      "outputs": []
    },
    {
      "cell_type": "code",
      "source": [
        "#Initialize the network\n",
        "net = SimpleNet()\n",
        "#Define optimizer and loss function with high learning rate\n",
        "criterion = nn.CrossEntropyLoss()\n",
        "optimizer = optim.SGD(net.parameters(), lr=1.0)   #High Learning Rate\n",
        "#Train the Network\n",
        "train_losses_without_clipping = train_without_clipping(net, optimizer, criterion)\n",
        "\n",
        "#Plot the training losses\n",
        "plt.plot(train_losses_without_clipping, label='Training Loss without Clipping')\n",
        "plt.xlabel('Epoch')\n",
        "plt.ylabel('Loss')\n",
        "plt.title('Training Loss without Clipping')\n",
        "plt.legend()\n",
        "plt.grid(True)\n",
        "plt.show()"
      ],
      "metadata": {
        "colab": {
          "base_uri": "https://localhost:8080/",
          "height": 611
        },
        "id": "eMI0ERlmrUKt",
        "outputId": "52ca555b-2a17-4d2a-e5bc-da833b43d92c"
      },
      "execution_count": null,
      "outputs": [
        {
          "output_type": "stream",
          "name": "stdout",
          "text": [
            "\n",
            "Training without Clipping\n",
            "Epoch [1 / 5], Loss: nan\n",
            "Epoch [2 / 5], Loss: nan\n",
            "Epoch [3 / 5], Loss: nan\n",
            "Epoch [4 / 5], Loss: nan\n",
            "Epoch [5 / 5], Loss: nan\n",
            "Finished Training without Clipping\n"
          ]
        },
        {
          "output_type": "display_data",
          "data": {
            "text/plain": [
              "<Figure size 640x480 with 1 Axes>"
            ],
            "image/png": "[encoded data removed]"
          },
          "metadata": {}
        }
      ]
    },
    {
      "cell_type": "code",
      "source": [
        "#Solving Exploding Gradient Problem\n",
        "def train_with_clipping(net, optimizer, criterion, clip_value=1.0, num_epochs=5):\n",
        "  print(\"\\nTraining with Gradient Clipping\")\n",
        "  net.train()\n",
        "\n",
        "  train_losses = []\n",
        "  for epoch in range(num_epochs):\n",
        "    running_loss = 0.0\n",
        "    for inputs, labels in trainloader:\n",
        "      optimizer.zero_grad()\n",
        "      outputs = net(inputs)\n",
        "      loss = criterion(outputs, labels)\n",
        "      loss.backward()\n",
        "      #Apply Gradient Clipping\n",
        "      torch.nn.utils.clip_grad_norm_(net.parameters(), clip_value)\n",
        "      optimizer.step()\n",
        "      running_loss += loss.item()\n",
        "    epoch_loss = running_loss / len(trainloader)\n",
        "    train_losses.append(epoch_loss)\n",
        "    print(f'Epoch [{epoch + 1} / {num_epochs}], Loss: {epoch_loss:.4f}')\n",
        "\n",
        "  print('Finished Training with Gradient Clipping')\n",
        "  return train_losses\n",
        "\n",
        "\n",
        "#Reinitialized the Network\n",
        "net_clipped = SimpleNet()\n",
        "#Define the loss function and optimizer with the same high learning rate\n",
        "criterion_clipped = nn.CrossEntropyLoss()\n",
        "optimizer_clipped = optim.SGD(net_clipped.parameters(), lr=1.0)\n",
        "\n",
        "#Train the network with Gradient Clipping\n",
        "losses_with_clipping = train_with_clipping(net_clipped, optimizer_clipped, criterion_clipped, clip_value=1.0, num_epochs=5)\n",
        "\n",
        "#Plot the training Loss\n",
        "plt.figure()\n",
        "plt.plot(train_losses_without_clipping, label='Training Loss without Clipping')\n",
        "plt.plot(losses_with_clipping, label='Training Loss with Clipping')\n",
        "plt.title('Training Loss Comparison')\n",
        "plt.xlabel('Epoch')\n",
        "plt.ylabel('Loss')\n",
        "plt.legend()\n",
        "plt.grid(True)\n",
        "plt.show()"
      ],
      "metadata": {
        "colab": {
          "base_uri": "https://localhost:8080/",
          "height": 611
        },
        "id": "hcu-fJtisvS3",
        "outputId": "873dde71-1e44-4e6b-84a5-fcb8f55f5bc9"
      },
      "execution_count": null,
      "outputs": [
        {
          "output_type": "stream",
          "name": "stdout",
          "text": [
            "\n",
            "Training with Gradient Clipping\n",
            "Epoch [1 / 5], Loss: 0.7946\n",
            "Epoch [2 / 5], Loss: 0.5105\n",
            "Epoch [3 / 5], Loss: 0.4475\n",
            "Epoch [4 / 5], Loss: 0.4192\n",
            "Epoch [5 / 5], Loss: 0.3964\n",
            "Finished Training with Gradient Clipping\n"
          ]
        },
        {
          "output_type": "display_data",
          "data": {
            "text/plain": [
              "<Figure size 640x480 with 1 Axes>"
            ],
            "image/png": "[encoded data removed]"
          },
          "metadata": {}
        }
      ]
    },
    {
      "cell_type": "code",
      "source": [
        "#Evaluate the model trained with Gradient Clipping\n",
        "def evaluate_model(net):\n",
        "  net.eval()\n",
        "  correct = 0\n",
        "  total = 0\n",
        "  with torch.no_grad():\n",
        "    for inputs, labels in testloader:\n",
        "      outputs = net(inputs)\n",
        "      _, predicted = torch.max(outputs, 1)\n",
        "      total += labels.size(0)\n",
        "      correct += (predicted == labels).sum().item()\n",
        "  print(f'Accuracy on the test set: {100 * correct / total:.2f}%')\n",
        "\n",
        "\n",
        "#Evaluate the model training without clipping\n",
        "print(\"\\nEvaluating model trained without gradient clipping (may fail due to NaNs):\")\n",
        "evaluate_model(net)\n",
        "\n",
        "# Evaluate the model trained with clipping\n",
        "print(\"\\nEvaluating model trained with gradient clipping:\")\n",
        "evaluate_model(net_clipped)"
      ],
      "metadata": {
        "colab": {
          "base_uri": "https://localhost:8080/"
        },
        "id": "CXa8t-fAzq6b",
        "outputId": "7fc004c9-50d9-4529-8206-454359e30960"
      },
      "execution_count": null,
      "outputs": [
        {
          "output_type": "stream",
          "name": "stdout",
          "text": [
            "\n",
            "Evaluating model trained without gradient clipping (may fail due to NaNs):\n",
            "Accuracy on the test set: 10.00%\n",
            "\n",
            "Evaluating model trained with gradient clipping:\n",
            "Accuracy on the test set: 82.14%\n"
          ]
        }
      ]
    },
    {
      "cell_type": "markdown",
      "source": [
        "### Experiment with Adam Optimizer"
      ],
      "metadata": {
        "id": "y1uhTZmt10rR"
      }
    },
    {
      "cell_type": "code",
      "source": [
        "# Import necessary libraries\n",
        "import torch\n",
        "import torch.nn as nn\n",
        "import torch.optim as optim\n",
        "import torchvision\n",
        "import torchvision.transforms as transforms\n",
        "import matplotlib.pyplot as plt\n",
        "import numpy as np\n",
        "\n",
        "# 1. Data Import, Preparation, and Preprocessing\n",
        "\n",
        "# Define transformations for the training and testing sets\n",
        "transform = transforms.Compose([\n",
        "    transforms.ToTensor(),  # Convert images to PyTorch tensors\n",
        "    transforms.Normalize((0.5,), (0.5,))  # Normalize the data to [-1, 1]\n",
        "])\n",
        "\n",
        "# Download and load the training data\n",
        "trainset = torchvision.datasets.FashionMNIST(\n",
        "    root='./data',\n",
        "    train=True,\n",
        "    download=True,\n",
        "    transform=transform\n",
        ")\n",
        "trainloader = torch.utils.data.DataLoader(\n",
        "    trainset,\n",
        "    batch_size=64,\n",
        "    shuffle=True\n",
        ")\n",
        "\n",
        "# Download and load the testing data\n",
        "testset = torchvision.datasets.FashionMNIST(\n",
        "    root='./data',\n",
        "    train=False,\n",
        "    download=True,\n",
        "    transform=transform\n",
        ")\n",
        "testloader = torch.utils.data.DataLoader(\n",
        "    testset,\n",
        "    batch_size=64,\n",
        "    shuffle=False\n",
        ")\n",
        "\n",
        "# Map numeric labels to class names\n",
        "classes = ['T-shirt/top', 'Trouser', 'Pullover', 'Dress', 'Coat',\n",
        "           'Sandal', 'Shirt', 'Sneaker', 'Bag', 'Ankle boot']\n",
        "\n",
        "# 2. Defining the Neural Network\n",
        "\n",
        "class SimpleNet(nn.Module):\n",
        "    def __init__(self):\n",
        "        super(SimpleNet, self).__init__()\n",
        "        self.fc1 = nn.Linear(28 * 28, 512)\n",
        "        self.relu1 = nn.ReLU()\n",
        "        self.fc2 = nn.Linear(512, 256)\n",
        "        self.relu2 = nn.ReLU()\n",
        "        self.fc3 = nn.Linear(256, 128)\n",
        "        self.relu3 = nn.ReLU()\n",
        "        self.fc4 = nn.Linear(128, 64)\n",
        "        self.relu4 = nn.ReLU()\n",
        "        self.fc5 = nn.Linear(64, 10)  # Output layer\n",
        "\n",
        "    def forward(self, x):\n",
        "        x = x.view(-1, 28 * 28)\n",
        "        x = self.relu1(self.fc1(x))\n",
        "        x = self.relu2(self.fc2(x))\n",
        "        x = self.relu3(self.fc3(x))\n",
        "        x = self.relu4(self.fc4(x))\n",
        "        x = self.fc5(x)\n",
        "        return x"
      ],
      "metadata": {
        "id": "jeyV3EMl1Rz5"
      },
      "execution_count": null,
      "outputs": []
    },
    {
      "cell_type": "code",
      "source": [
        "#Training Function without Gradient Clipping (Adam Optimizer)\n",
        "def train_with_optimizer(net, optimizer, criterion, num_epochs=5):\n",
        "  print('\\nTraining with Adam Optimizer')\n",
        "  net.train()\n",
        "  train_losses = []\n",
        "  for epoch in range(num_epochs):\n",
        "    running_loss = 0.0\n",
        "    for inputs, labels in trainloader:\n",
        "      optimizer.zero_grad()\n",
        "      outputs = net(inputs)\n",
        "      loss = criterion(outputs, labels)\n",
        "      loss.backward()\n",
        "      optimizer.step()\n",
        "      running_loss += loss.item()\n",
        "    epoch_loss = running_loss / len(trainloader)\n",
        "    train_losses.append(epoch_loss)\n",
        "    print(f'Epoch [{epoch + 1} / {num_epochs}], Loss: {epoch_loss:.4f}')\n",
        "  print(\"\\nFinished Training with Optimizer Adam\")\n",
        "  return train_losses\n",
        "\n",
        "#Initialize the network\n",
        "net = SimpleNet()\n",
        "#Define Loss function and optimizer\n",
        "criterion = nn.CrossEntropyLoss()\n",
        "optimizer = optim.Adam(net.parameters(), lr=0.001) #Adam Optimizer\n",
        "\n",
        "#Train the network\n",
        "losses_with_optimizer = train_with_optimizer(net, optimizer, criterion, num_epochs=5)\n",
        "# Plot the training losses\n",
        "plt.figure()\n",
        "plt.plot(losses_with_optimizer, label='Training Loss with Adam Optimizer')\n",
        "plt.title('Training Loss with Adam Optimizer')\n",
        "plt.xlabel('Epoch')\n",
        "plt.ylabel('Loss')\n",
        "plt.legend()\n",
        "plt.grid(True)\n",
        "plt.show()"
      ],
      "metadata": {
        "colab": {
          "base_uri": "https://localhost:8080/",
          "height": 628
        },
        "id": "cf9CGCEG2EAe",
        "outputId": "844eea53-827f-41f4-c839-3f26b4fe3f38"
      },
      "execution_count": null,
      "outputs": [
        {
          "output_type": "stream",
          "name": "stdout",
          "text": [
            "\n",
            "Training with Adam Optimizer\n",
            "Epoch [1 / 5], Loss: 0.5342\n",
            "Epoch [2 / 5], Loss: 0.3847\n",
            "Epoch [3 / 5], Loss: 0.3408\n",
            "Epoch [4 / 5], Loss: 0.3148\n",
            "Epoch [5 / 5], Loss: 0.2933\n",
            "\n",
            "Finished Training with Optimizer Adam\n"
          ]
        },
        {
          "output_type": "display_data",
          "data": {
            "text/plain": [
              "<Figure size 640x480 with 1 Axes>"
            ],
            "image/png": "[encoded data removed]"
          },
          "metadata": {}
        }
      ]
    },
    {
      "cell_type": "code",
      "source": [
        "# 4. Evaluating the Model Trained with Adam Optimizer\n",
        "\n",
        "def evaluate_model(net):\n",
        "    net.eval()\n",
        "    correct = 0\n",
        "    total = 0\n",
        "    with torch.no_grad():\n",
        "        for inputs, labels in testloader:\n",
        "            outputs = net(inputs)\n",
        "            _, predicted = torch.max(outputs, 1)\n",
        "            total += labels.size(0)\n",
        "            correct += (predicted == labels).sum().item()\n",
        "    print(f'Accuracy on the test set: {100 * correct / total:.2f}%')\n",
        "\n",
        "# Evaluate the model\n",
        "print(\"\\nEvaluating model trained with Adam optimizer:\")\n",
        "evaluate_model(net)#"
      ],
      "metadata": {
        "colab": {
          "base_uri": "https://localhost:8080/"
        },
        "id": "5TJVGbit3wMn",
        "outputId": "b98011b3-8d8b-4ca7-cd02-d42d199c470d"
      },
      "execution_count": null,
      "outputs": [
        {
          "output_type": "stream",
          "name": "stdout",
          "text": [
            "\n",
            "Evaluating model trained with Adam optimizer:\n",
            "Accuracy on the test set: 87.27%\n"
          ]
        }
      ]
    },
    {
      "cell_type": "markdown",
      "source": [
        "### Implementation of L1, L2 Regularization with Optimizer"
      ],
      "metadata": {
        "id": "w_BT8Ocs5Ijt"
      }
    },
    {
      "cell_type": "code",
      "source": [
        "import torch\n",
        "import torch.nn as nn\n",
        "import torch.optim as optim\n",
        "import torchvision\n",
        "import torchvision.transforms as transforms\n",
        "import matplotlib.pyplot as plt\n",
        "\n",
        "# 1. Data Import, Preparation, and Preprocessing\n",
        "transform = transforms.Compose([\n",
        "    transforms.ToTensor(),\n",
        "    transforms.Normalize((0.5,), (0.5,))\n",
        "])\n",
        "\n",
        "trainset = torchvision.datasets.FashionMNIST(\n",
        "    root='./data',\n",
        "    train=True,\n",
        "    download=True,\n",
        "    transform=transform\n",
        ")\n",
        "trainloader = torch.utils.data.DataLoader(trainset, batch_size=64, shuffle=True)\n",
        "\n",
        "testset = torchvision.datasets.FashionMNIST(\n",
        "    root='./data',\n",
        "    train=False,\n",
        "    download=True,\n",
        "    transform=transform\n",
        ")\n",
        "testloader = torch.utils.data.DataLoader(testset, batch_size=64, shuffle=False)"
      ],
      "metadata": {
        "id": "86BMi31e5DV2"
      },
      "execution_count": null,
      "outputs": []
    },
    {
      "cell_type": "code",
      "source": [
        "#Defining the Neural Network\n",
        "class SimpleNet(nn.Module):\n",
        "  def __init__(self):\n",
        "    super(SimpleNet, self).__init__()\n",
        "\n",
        "    self.fc1 = nn.Linear(28*28, 512)    #Input size is 28*28 and transform it into 512 unit\n",
        "    self.fc2 = nn.Linear(512, 256)\n",
        "    self.fc3 = nn.Linear(256, 128)\n",
        "    self.fc4 = nn.Linear(128, 64)\n",
        "    self.fc5 = nn.Linear(64, 10)\n",
        "\n",
        "  def forward(self, x):\n",
        "    x = x.view(-1, 28 * 28)\n",
        "    x = torch.relu(self.fc1(x))\n",
        "    x = torch.relu(self.fc2(x))\n",
        "    x = torch.relu(self.fc3(x))\n",
        "    x = torch.relu(self.fc4(x))\n",
        "    x = self.fc5(x)\n",
        "    return x\n",
        "\n",
        "#Initialize the network\n",
        "net = SimpleNet()\n",
        "#Define the loss function\n",
        "criterion = nn.CrossEntropyLoss()\n",
        "#L2 Regularization using weight decay in the optimizer\n",
        "optimizer_l2 = optim.Adam(net.parameters(), lr=0.001, weight_decay=0.001)  #L2 Regularization\n",
        "\n",
        "#Function for training L2 Regularization (via weight decay)\n",
        "def train_with_l2_regularization(net, optimizer, criterion, num_epochs=5):\n",
        "  print(\"\\nTraining with L2 Regularization\")\n",
        "  train_losses = []\n",
        "  for epoch in range(num_epochs):\n",
        "    net.train()\n",
        "    running_loss = 0.0\n",
        "    for inputs, labels in trainloader:\n",
        "        optimizer.zero_grad()         # Zero gradients\n",
        "        outputs = net(inputs)         # Forward pass\n",
        "        loss = criterion(outputs, labels)  # Compute loss\n",
        "        loss.backward()               # Backpropagation\n",
        "        optimizer.step()              # Update weights\n",
        "        running_loss += loss.item()\n",
        "\n",
        "    epoch_loss = running_loss / len(trainloader)\n",
        "    train_losses.append(epoch_loss)\n",
        "    print(f\"Epoch [{epoch + 1}/{num_epochs}], Loss: {epoch_loss:.4f}\")\n",
        "  print(\"\\nTrain the model with L2 regularization\")\n",
        "  return train_losses\n",
        "\n",
        "# Train the model with L2 regularization\n",
        "train_losses_l2 = train_with_l2_regularization(net, optimizer_l2, criterion, num_epochs=5)\n",
        "\n",
        "# Plot the training loss for L2 regularization\n",
        "plt.figure()\n",
        "plt.plot(train_losses_l2, label='L2 Regularization (weight_decay)')\n",
        "plt.title('Training Loss with L2 Regularization')\n",
        "plt.xlabel('Epoch')\n",
        "plt.ylabel('Loss')\n",
        "plt.legend()\n",
        "plt.grid(True)\n",
        "plt.show()"
      ],
      "metadata": {
        "colab": {
          "base_uri": "https://localhost:8080/",
          "height": 628
        },
        "id": "FiCGVPHM5iX5",
        "outputId": "de054cdf-d5be-4fbd-fce6-743f93c354c3"
      },
      "execution_count": null,
      "outputs": [
        {
          "output_type": "stream",
          "name": "stdout",
          "text": [
            "\n",
            "Training with L2 Regularization\n",
            "Epoch [1/5], Loss: 0.5550\n",
            "Epoch [2/5], Loss: 0.4274\n",
            "Epoch [3/5], Loss: 0.3935\n",
            "Epoch [4/5], Loss: 0.3730\n",
            "Epoch [5/5], Loss: 0.3553\n",
            "\n",
            "Train the model with L2 regularization\n"
          ]
        },
        {
          "output_type": "display_data",
          "data": {
            "text/plain": [
              "<Figure size 640x480 with 1 Axes>"
            ],
            "image/png": "[encoded data removed]"
          },
          "metadata": {}
        }
      ]
    },
    {
      "cell_type": "code",
      "source": [
        "# 4. L1 Regularization Implementation (Manually Adding L1 to Loss)\n",
        "l1_lambda = 0.01    #The strength of L1 Regularization\n",
        "\n",
        "# Function for training with manual L1 regularization\n",
        "def train_with_l1_regularization(net, optimizer, criterion, l1_lambda, num_epochs=5):\n",
        "    print(\"\\nTraining with L1 Regularization\")\n",
        "    train_losses = []\n",
        "\n",
        "    for epoch in range(num_epochs):\n",
        "        net.train()\n",
        "        running_loss = 0.0\n",
        "        for inputs, labels in trainloader:\n",
        "            optimizer.zero_grad()         # Zero gradients\n",
        "            outputs = net(inputs)         # Forward pass\n",
        "            loss = criterion(outputs, labels)  # Compute loss\n",
        "\n",
        "            # Manually add L1 regularization (sum of absolute values of weights)\n",
        "            l1_norm = sum(p.abs().sum() for p in net.parameters())\n",
        "            loss = loss + l1_lambda * l1_norm  # Add L1 penalty to the loss\n",
        "\n",
        "            loss.backward()               # Backpropagation\n",
        "            optimizer.step()              # Update weights\n",
        "            running_loss += loss.item()\n",
        "\n",
        "        epoch_loss = running_loss / len(trainloader)\n",
        "        train_losses.append(epoch_loss)\n",
        "        print(f\"Epoch [{epoch + 1}/{num_epochs}], Loss: {epoch_loss:.4f}\")\n",
        "\n",
        "    return train_losses"
      ],
      "metadata": {
        "id": "iYZR_nO08Pkw"
      },
      "execution_count": null,
      "outputs": []
    },
    {
      "cell_type": "code",
      "source": [
        "# Reinitialize the network for L1 training\n",
        "net_l1 = SimpleNet()\n",
        "\n",
        "# Define the optimizer without weight_decay for L1 (since we'll add L1 manually)\n",
        "optimizer_l1 = optim.Adam(net_l1.parameters(), lr=0.001)\n",
        "\n",
        "# Train the model with L1 regularization\n",
        "train_losses_l1 = train_with_l1_regularization(net_l1, optimizer_l1, criterion, l1_lambda, num_epochs=5)\n",
        "\n",
        "# Plot the training loss for L1 regularization\n",
        "plt.figure()\n",
        "plt.plot(train_losses_l1, label='L1 Regularization (manual)')\n",
        "plt.title('Training Loss with L1 Regularization')\n",
        "plt.xlabel('Epoch')\n",
        "plt.ylabel('Loss')\n",
        "plt.legend()\n",
        "plt.grid(True)\n",
        "plt.show()"
      ],
      "metadata": {
        "colab": {
          "base_uri": "https://localhost:8080/",
          "height": 594
        },
        "id": "_ncUURpK9NLp",
        "outputId": "9310b489-5a0d-4f61-aa1f-15f1601bf222"
      },
      "execution_count": null,
      "outputs": [
        {
          "output_type": "stream",
          "name": "stdout",
          "text": [
            "\n",
            "Training with L1 Regularization\n",
            "Epoch [1/5], Loss: 4.9696\n",
            "Epoch [2/5], Loss: 3.0177\n",
            "Epoch [3/5], Loss: 3.0177\n",
            "Epoch [4/5], Loss: 3.0178\n",
            "Epoch [5/5], Loss: 3.0177\n"
          ]
        },
        {
          "output_type": "display_data",
          "data": {
            "text/plain": [
              "<Figure size 640x480 with 1 Axes>"
            ],
            "image/png": "[encoded data removed]"
          },
          "metadata": {}
        }
      ]
    },
    {
      "cell_type": "code",
      "source": [
        "# 5. Model Evaluation\n",
        "def evaluate_model(net, testloader):\n",
        "    net.eval()\n",
        "    correct = 0\n",
        "    total = 0\n",
        "    with torch.no_grad():\n",
        "        for inputs, labels in testloader:\n",
        "            outputs = net(inputs)\n",
        "            _, predicted = torch.max(outputs, 1)\n",
        "            total += labels.size(0)\n",
        "            correct += (predicted == labels).sum().item()\n",
        "    print(f'Accuracy: {100 * correct / total:.2f}%')\n",
        "\n",
        "# Evaluate the model trained with L2 regularization\n",
        "print(\"\\nEvaluating model trained with L2 regularization:\")\n",
        "evaluate_model(net, testloader)\n",
        "\n",
        "# Evaluate the model trained with L1 regularization\n",
        "print(\"\\nEvaluating model trained with L1 regularization:\")\n",
        "evaluate_model(net_l1, testloader)"
      ],
      "metadata": {
        "colab": {
          "base_uri": "https://localhost:8080/"
        },
        "id": "ch91OOpG9s8D",
        "outputId": "98880d5f-abb0-4941-c80e-1ea661e2cb7c"
      },
      "execution_count": null,
      "outputs": [
        {
          "output_type": "stream",
          "name": "stdout",
          "text": [
            "\n",
            "Evaluating model trained with L2 regularization:\n",
            "Accuracy: 85.54%\n",
            "\n",
            "Evaluating model trained with L1 regularization:\n",
            "Accuracy: 10.00%\n"
          ]
        }
      ]
    },
    {
      "cell_type": "code",
      "source": [],
      "metadata": {
        "id": "INDKskHz9ycj"
      },
      "execution_count": null,
      "outputs": []
    }
  ],
  "metadata": {
    "accelerator": "GPU",
    "colab": {
      "gpuType": "T4",
      "provenance": []
    },
    "kernelspec": {
      "display_name": "Python 3",
      "name": "python3"
    },
    "language_info": {
      "name": "python"
    }
  },
  "nbformat": 4,
  "nbformat_minor": 0
}