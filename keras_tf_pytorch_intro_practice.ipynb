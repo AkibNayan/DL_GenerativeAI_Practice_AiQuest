{
  "nbformat": 4,
  "nbformat_minor": 0,
  "metadata": {
    "colab": {
      "provenance": [],
      "gpuType": "T4"
    },
    "kernelspec": {
      "name": "python3",
      "display_name": "Python 3"
    },
    "language_info": {
      "name": "python"
    },
    "accelerator": "GPU"
  },
  "cells": [
    {
      "cell_type": "markdown",
      "source": [
        "# **Keras**"
      ],
      "metadata": {
        "id": "zRtvOeFo-VZd"
      }
    },
    {
      "cell_type": "code",
      "source": [
        "from keras.models import Sequential\n",
        "from keras.layers import Dense\n",
        "\n",
        "#Define a sequential model using standalone keras\n",
        "model = Sequential([\n",
        "    Dense(10, activation='relu', input_shape=(4,)),\n",
        "    Dense(5, activation='relu'),\n",
        "    Dense(1, activation='sigmoid')  #Output Layer for Binary Classification\n",
        "])"
      ],
      "metadata": {
        "id": "mzzhJEGb-gN7",
        "colab": {
          "base_uri": "https://localhost:8080/"
        },
        "outputId": "d46bb9b3-0389-42ab-aa2b-13877474f66b"
      },
      "execution_count": null,
      "outputs": [
        {
          "output_type": "stream",
          "name": "stderr",
          "text": [
            "/usr/local/lib/python3.11/dist-packages/keras/src/layers/core/dense.py:87: UserWarning: Do not pass an `input_shape`/`input_dim` argument to a layer. When using Sequential models, prefer using an `Input(shape)` object as the first layer in the model instead.\n",
            "  super().__init__(activity_regularizer=activity_regularizer, **kwargs)\n"
          ]
        }
      ]
    },
    {
      "cell_type": "code",
      "source": [
        "#Compile the model\n",
        "model.compile(optimizer='adam', loss='binary_crossentropy', metrics=['accuracy'])\n"
      ],
      "metadata": {
        "id": "mum0FxaoS0ki"
      },
      "execution_count": null,
      "outputs": []
    },
    {
      "cell_type": "code",
      "source": [
        "model.summary()"
      ],
      "metadata": {
        "colab": {
          "base_uri": "https://localhost:8080/",
          "height": 238
        },
        "id": "lMYnoL3sTDpA",
        "outputId": "db883bde-3a4e-4c3c-ca6b-2ab7ea3f5670"
      },
      "execution_count": null,
      "outputs": [
        {
          "output_type": "display_data",
          "data": {
            "text/plain": [
              "\u001b[1mModel: \"sequential\"\u001b[0m\n"
            ],
            "text/html": [
              "<pre style=\"white-space:pre;overflow-x:auto;line-height:normal;font-family:Menlo,'DejaVu Sans Mono',consolas,'Courier New',monospace\"><span style=\"font-weight: bold\">Model: \"sequential\"</span>\n",
              "</pre>\n"
            ]
          },
          "metadata": {}
        },
        {
          "output_type": "display_data",
          "data": {
            "text/plain": [
              "┏━━━━━━━━━━━━━━━━━━━━━━━━━━━━━━━━━━━━━━┳━━━━━━━━━━━━━━━━━━━━━━━━━━━━━┳━━━━━━━━━━━━━━━━━┓\n",
              "┃\u001b[1m \u001b[0m\u001b[1mLayer (type)                        \u001b[0m\u001b[1m \u001b[0m┃\u001b[1m \u001b[0m\u001b[1mOutput Shape               \u001b[0m\u001b[1m \u001b[0m┃\u001b[1m \u001b[0m\u001b[1m        Param #\u001b[0m\u001b[1m \u001b[0m┃\n",
              "┡━━━━━━━━━━━━━━━━━━━━━━━━━━━━━━━━━━━━━━╇━━━━━━━━━━━━━━━━━━━━━━━━━━━━━╇━━━━━━━━━━━━━━━━━┩\n",
              "│ dense (\u001b[38;5;33mDense\u001b[0m)                        │ (\u001b[38;5;45mNone\u001b[0m, \u001b[38;5;34m10\u001b[0m)                  │              \u001b[38;5;34m50\u001b[0m │\n",
              "├──────────────────────────────────────┼─────────────────────────────┼─────────────────┤\n",
              "│ dense_1 (\u001b[38;5;33mDense\u001b[0m)                      │ (\u001b[38;5;45mNone\u001b[0m, \u001b[38;5;34m5\u001b[0m)                   │              \u001b[38;5;34m55\u001b[0m │\n",
              "├──────────────────────────────────────┼─────────────────────────────┼─────────────────┤\n",
              "│ dense_2 (\u001b[38;5;33mDense\u001b[0m)                      │ (\u001b[38;5;45mNone\u001b[0m, \u001b[38;5;34m1\u001b[0m)                   │               \u001b[38;5;34m6\u001b[0m │\n",
              "└──────────────────────────────────────┴─────────────────────────────┴─────────────────┘\n"
            ],
            "text/html": [
              "<pre style=\"white-space:pre;overflow-x:auto;line-height:normal;font-family:Menlo,'DejaVu Sans Mono',consolas,'Courier New',monospace\">┏━━━━━━━━━━━━━━━━━━━━━━━━━━━━━━━━━━━━━━┳━━━━━━━━━━━━━━━━━━━━━━━━━━━━━┳━━━━━━━━━━━━━━━━━┓\n",
              "┃<span style=\"font-weight: bold\"> Layer (type)                         </span>┃<span style=\"font-weight: bold\"> Output Shape                </span>┃<span style=\"font-weight: bold\">         Param # </span>┃\n",
              "┡━━━━━━━━━━━━━━━━━━━━━━━━━━━━━━━━━━━━━━╇━━━━━━━━━━━━━━━━━━━━━━━━━━━━━╇━━━━━━━━━━━━━━━━━┩\n",
              "│ dense (<span style=\"color: #0087ff; text-decoration-color: #0087ff\">Dense</span>)                        │ (<span style=\"color: #00d7ff; text-decoration-color: #00d7ff\">None</span>, <span style=\"color: #00af00; text-decoration-color: #00af00\">10</span>)                  │              <span style=\"color: #00af00; text-decoration-color: #00af00\">50</span> │\n",
              "├──────────────────────────────────────┼─────────────────────────────┼─────────────────┤\n",
              "│ dense_1 (<span style=\"color: #0087ff; text-decoration-color: #0087ff\">Dense</span>)                      │ (<span style=\"color: #00d7ff; text-decoration-color: #00d7ff\">None</span>, <span style=\"color: #00af00; text-decoration-color: #00af00\">5</span>)                   │              <span style=\"color: #00af00; text-decoration-color: #00af00\">55</span> │\n",
              "├──────────────────────────────────────┼─────────────────────────────┼─────────────────┤\n",
              "│ dense_2 (<span style=\"color: #0087ff; text-decoration-color: #0087ff\">Dense</span>)                      │ (<span style=\"color: #00d7ff; text-decoration-color: #00d7ff\">None</span>, <span style=\"color: #00af00; text-decoration-color: #00af00\">1</span>)                   │               <span style=\"color: #00af00; text-decoration-color: #00af00\">6</span> │\n",
              "└──────────────────────────────────────┴─────────────────────────────┴─────────────────┘\n",
              "</pre>\n"
            ]
          },
          "metadata": {}
        },
        {
          "output_type": "display_data",
          "data": {
            "text/plain": [
              "\u001b[1m Total params: \u001b[0m\u001b[38;5;34m111\u001b[0m (444.00 B)\n"
            ],
            "text/html": [
              "<pre style=\"white-space:pre;overflow-x:auto;line-height:normal;font-family:Menlo,'DejaVu Sans Mono',consolas,'Courier New',monospace\"><span style=\"font-weight: bold\"> Total params: </span><span style=\"color: #00af00; text-decoration-color: #00af00\">111</span> (444.00 B)\n",
              "</pre>\n"
            ]
          },
          "metadata": {}
        },
        {
          "output_type": "display_data",
          "data": {
            "text/plain": [
              "\u001b[1m Trainable params: \u001b[0m\u001b[38;5;34m111\u001b[0m (444.00 B)\n"
            ],
            "text/html": [
              "<pre style=\"white-space:pre;overflow-x:auto;line-height:normal;font-family:Menlo,'DejaVu Sans Mono',consolas,'Courier New',monospace\"><span style=\"font-weight: bold\"> Trainable params: </span><span style=\"color: #00af00; text-decoration-color: #00af00\">111</span> (444.00 B)\n",
              "</pre>\n"
            ]
          },
          "metadata": {}
        },
        {
          "output_type": "display_data",
          "data": {
            "text/plain": [
              "\u001b[1m Non-trainable params: \u001b[0m\u001b[38;5;34m0\u001b[0m (0.00 B)\n"
            ],
            "text/html": [
              "<pre style=\"white-space:pre;overflow-x:auto;line-height:normal;font-family:Menlo,'DejaVu Sans Mono',consolas,'Courier New',monospace\"><span style=\"font-weight: bold\"> Non-trainable params: </span><span style=\"color: #00af00; text-decoration-color: #00af00\">0</span> (0.00 B)\n",
              "</pre>\n"
            ]
          },
          "metadata": {}
        }
      ]
    },
    {
      "cell_type": "code",
      "source": [
        "import tensorflow as tf\n",
        "model1 = tf.keras.Sequential([\n",
        "    tf.keras.layers.Dense(10, activation='relu', input_shape=(4,)),\n",
        "    tf.keras.layers.Dense(1, activation='sigmoid')\n",
        "])\n",
        "\n",
        "model1.compile(optimizer='adam', loss='binary_crossentropy')\n",
        "model1.summary()"
      ],
      "metadata": {
        "colab": {
          "base_uri": "https://localhost:8080/",
          "height": 204
        },
        "id": "pDPRbK_NTONS",
        "outputId": "ef71c6bd-f444-4579-a9fb-e2da6ab27331"
      },
      "execution_count": null,
      "outputs": [
        {
          "output_type": "display_data",
          "data": {
            "text/plain": [
              "\u001b[1mModel: \"sequential_1\"\u001b[0m\n"
            ],
            "text/html": [
              "<pre style=\"white-space:pre;overflow-x:auto;line-height:normal;font-family:Menlo,'DejaVu Sans Mono',consolas,'Courier New',monospace\"><span style=\"font-weight: bold\">Model: \"sequential_1\"</span>\n",
              "</pre>\n"
            ]
          },
          "metadata": {}
        },
        {
          "output_type": "display_data",
          "data": {
            "text/plain": [
              "┏━━━━━━━━━━━━━━━━━━━━━━━━━━━━━━━━━━━━━━┳━━━━━━━━━━━━━━━━━━━━━━━━━━━━━┳━━━━━━━━━━━━━━━━━┓\n",
              "┃\u001b[1m \u001b[0m\u001b[1mLayer (type)                        \u001b[0m\u001b[1m \u001b[0m┃\u001b[1m \u001b[0m\u001b[1mOutput Shape               \u001b[0m\u001b[1m \u001b[0m┃\u001b[1m \u001b[0m\u001b[1m        Param #\u001b[0m\u001b[1m \u001b[0m┃\n",
              "┡━━━━━━━━━━━━━━━━━━━━━━━━━━━━━━━━━━━━━━╇━━━━━━━━━━━━━━━━━━━━━━━━━━━━━╇━━━━━━━━━━━━━━━━━┩\n",
              "│ dense_3 (\u001b[38;5;33mDense\u001b[0m)                      │ (\u001b[38;5;45mNone\u001b[0m, \u001b[38;5;34m10\u001b[0m)                  │              \u001b[38;5;34m50\u001b[0m │\n",
              "├──────────────────────────────────────┼─────────────────────────────┼─────────────────┤\n",
              "│ dense_4 (\u001b[38;5;33mDense\u001b[0m)                      │ (\u001b[38;5;45mNone\u001b[0m, \u001b[38;5;34m1\u001b[0m)                   │              \u001b[38;5;34m11\u001b[0m │\n",
              "└──────────────────────────────────────┴─────────────────────────────┴─────────────────┘\n"
            ],
            "text/html": [
              "<pre style=\"white-space:pre;overflow-x:auto;line-height:normal;font-family:Menlo,'DejaVu Sans Mono',consolas,'Courier New',monospace\">┏━━━━━━━━━━━━━━━━━━━━━━━━━━━━━━━━━━━━━━┳━━━━━━━━━━━━━━━━━━━━━━━━━━━━━┳━━━━━━━━━━━━━━━━━┓\n",
              "┃<span style=\"font-weight: bold\"> Layer (type)                         </span>┃<span style=\"font-weight: bold\"> Output Shape                </span>┃<span style=\"font-weight: bold\">         Param # </span>┃\n",
              "┡━━━━━━━━━━━━━━━━━━━━━━━━━━━━━━━━━━━━━━╇━━━━━━━━━━━━━━━━━━━━━━━━━━━━━╇━━━━━━━━━━━━━━━━━┩\n",
              "│ dense_3 (<span style=\"color: #0087ff; text-decoration-color: #0087ff\">Dense</span>)                      │ (<span style=\"color: #00d7ff; text-decoration-color: #00d7ff\">None</span>, <span style=\"color: #00af00; text-decoration-color: #00af00\">10</span>)                  │              <span style=\"color: #00af00; text-decoration-color: #00af00\">50</span> │\n",
              "├──────────────────────────────────────┼─────────────────────────────┼─────────────────┤\n",
              "│ dense_4 (<span style=\"color: #0087ff; text-decoration-color: #0087ff\">Dense</span>)                      │ (<span style=\"color: #00d7ff; text-decoration-color: #00d7ff\">None</span>, <span style=\"color: #00af00; text-decoration-color: #00af00\">1</span>)                   │              <span style=\"color: #00af00; text-decoration-color: #00af00\">11</span> │\n",
              "└──────────────────────────────────────┴─────────────────────────────┴─────────────────┘\n",
              "</pre>\n"
            ]
          },
          "metadata": {}
        },
        {
          "output_type": "display_data",
          "data": {
            "text/plain": [
              "\u001b[1m Total params: \u001b[0m\u001b[38;5;34m61\u001b[0m (244.00 B)\n"
            ],
            "text/html": [
              "<pre style=\"white-space:pre;overflow-x:auto;line-height:normal;font-family:Menlo,'DejaVu Sans Mono',consolas,'Courier New',monospace\"><span style=\"font-weight: bold\"> Total params: </span><span style=\"color: #00af00; text-decoration-color: #00af00\">61</span> (244.00 B)\n",
              "</pre>\n"
            ]
          },
          "metadata": {}
        },
        {
          "output_type": "display_data",
          "data": {
            "text/plain": [
              "\u001b[1m Trainable params: \u001b[0m\u001b[38;5;34m61\u001b[0m (244.00 B)\n"
            ],
            "text/html": [
              "<pre style=\"white-space:pre;overflow-x:auto;line-height:normal;font-family:Menlo,'DejaVu Sans Mono',consolas,'Courier New',monospace\"><span style=\"font-weight: bold\"> Trainable params: </span><span style=\"color: #00af00; text-decoration-color: #00af00\">61</span> (244.00 B)\n",
              "</pre>\n"
            ]
          },
          "metadata": {}
        },
        {
          "output_type": "display_data",
          "data": {
            "text/plain": [
              "\u001b[1m Non-trainable params: \u001b[0m\u001b[38;5;34m0\u001b[0m (0.00 B)\n"
            ],
            "text/html": [
              "<pre style=\"white-space:pre;overflow-x:auto;line-height:normal;font-family:Menlo,'DejaVu Sans Mono',consolas,'Courier New',monospace\"><span style=\"font-weight: bold\"> Non-trainable params: </span><span style=\"color: #00af00; text-decoration-color: #00af00\">0</span> (0.00 B)\n",
              "</pre>\n"
            ]
          },
          "metadata": {}
        }
      ]
    },
    {
      "cell_type": "markdown",
      "source": [
        "# Tensorflow"
      ],
      "metadata": {
        "id": "vmfiwan6esvT"
      }
    },
    {
      "cell_type": "code",
      "source": [
        "import tensorflow as tf\n",
        "#Define tensors\n",
        "a = tf.constant([1.0, 2.0])\n",
        "b = tf.constant([3.0, 4.0])\n",
        "\n",
        "#Perform Basic Operation\n",
        "sum_result = tf.add(a, b)\n",
        "dot_product = tf.tensordot(a, b, axes=1)\n",
        "\n",
        "print(f'Sum: {sum_result}')\n",
        "print(f'Dot Product: {dot_product}')"
      ],
      "metadata": {
        "id": "w3s5Ol6qexId",
        "colab": {
          "base_uri": "https://localhost:8080/"
        },
        "outputId": "cdb7d16a-a096-4fb0-dabb-3b08782c0bd0"
      },
      "execution_count": null,
      "outputs": [
        {
          "output_type": "stream",
          "name": "stdout",
          "text": [
            "Sum: [4. 6.]\n",
            "Dot Product: 11.0\n"
          ]
        }
      ]
    },
    {
      "cell_type": "code",
      "source": [
        "import tensorflow as tf\n",
        "# Define a Simple Neural Network using Tensorflow Low level API's\n",
        "class SimpleNN(tf.Module):\n",
        "  def __init__(self):\n",
        "    super(SimpleNN, self).__init__()\n",
        "    self.w = tf.Variable(tf.random.normal([2, 2]), name='weight') # Weight Matrix\n",
        "    self.b = tf.Variable(tf.zeros([2]), name='bias') #Bias Vector\n",
        "\n",
        "  def __call__(self, x):\n",
        "    return tf.nn.relu(tf.matmul(self.w, x) + self.b)   #RELU Activation\n",
        "\n",
        "#Create a Model and Test\n",
        "model = SimpleNN()\n",
        "input_data = tf.constant([[1.0, 2.0], [3.0, 4.0]])\n",
        "output = model(input_data)"
      ],
      "metadata": {
        "id": "CfvXZWZNDqex"
      },
      "execution_count": null,
      "outputs": []
    },
    {
      "cell_type": "code",
      "source": [
        "# Output Result from Model\n",
        "print(f'Output: {output}')"
      ],
      "metadata": {
        "colab": {
          "base_uri": "https://localhost:8080/"
        },
        "id": "MLqg8GB2H0G7",
        "outputId": "86782ddd-e8c4-4207-d76c-8cfdce081824"
      },
      "execution_count": null,
      "outputs": [
        {
          "output_type": "stream",
          "name": "stdout",
          "text": [
            "Output: [[0. 0.]\n",
            " [0. 0.]]\n"
          ]
        }
      ]
    },
    {
      "cell_type": "code",
      "source": [
        "#Display Trainable Parameter\n",
        "print('\\nTrainable Parameters:')\n",
        "print(\"Weight: \")\n",
        "print(model.w.numpy())  #Display Weight Matrix\n",
        "print(\"Bias: \")\n",
        "print(model.b.numpy())  #Display Bias Matrix"
      ],
      "metadata": {
        "colab": {
          "base_uri": "https://localhost:8080/"
        },
        "id": "ZJ-fvvAmIepG",
        "outputId": "bf468982-7d85-409d-b4f6-2ce89a3c5fc3"
      },
      "execution_count": null,
      "outputs": [
        {
          "output_type": "stream",
          "name": "stdout",
          "text": [
            "\n",
            "Trainable Parameters:\n",
            "Weight: \n",
            "[[-0.0908957  -0.41849622]\n",
            " [-0.46203324 -1.0261433 ]]\n",
            "Bias: \n",
            "[0. 0.]\n"
          ]
        }
      ]
    },
    {
      "cell_type": "markdown",
      "source": [
        "# Pytorch"
      ],
      "metadata": {
        "id": "iAQoioikJRa2"
      }
    },
    {
      "cell_type": "code",
      "source": [
        "#!pip install torch"
      ],
      "metadata": {
        "colab": {
          "base_uri": "https://localhost:8080/"
        },
        "id": "_R-8x-B4JTW8",
        "outputId": "30d9ab86-6f8b-42ce-903e-0af7ce35facc"
      },
      "execution_count": null,
      "outputs": [
        {
          "output_type": "stream",
          "name": "stdout",
          "text": [
            "Requirement already satisfied: torch in /usr/local/lib/python3.11/dist-packages (2.5.1+cu121)\n",
            "Requirement already satisfied: filelock in /usr/local/lib/python3.11/dist-packages (from torch) (3.16.1)\n",
            "Requirement already satisfied: typing-extensions>=4.8.0 in /usr/local/lib/python3.11/dist-packages (from torch) (4.12.2)\n",
            "Requirement already satisfied: networkx in /usr/local/lib/python3.11/dist-packages (from torch) (3.4.2)\n",
            "Requirement already satisfied: jinja2 in /usr/local/lib/python3.11/dist-packages (from torch) (3.1.5)\n",
            "Requirement already satisfied: fsspec in /usr/local/lib/python3.11/dist-packages (from torch) (2024.10.0)\n",
            "Requirement already satisfied: nvidia-cuda-nvrtc-cu12==12.1.105 in /usr/local/lib/python3.11/dist-packages (from torch) (12.1.105)\n",
            "Requirement already satisfied: nvidia-cuda-runtime-cu12==12.1.105 in /usr/local/lib/python3.11/dist-packages (from torch) (12.1.105)\n",
            "Requirement already satisfied: nvidia-cuda-cupti-cu12==12.1.105 in /usr/local/lib/python3.11/dist-packages (from torch) (12.1.105)\n",
            "Requirement already satisfied: nvidia-cudnn-cu12==9.1.0.70 in /usr/local/lib/python3.11/dist-packages (from torch) (9.1.0.70)\n",
            "Requirement already satisfied: nvidia-cublas-cu12==12.1.3.1 in /usr/local/lib/python3.11/dist-packages (from torch) (12.1.3.1)\n",
            "Requirement already satisfied: nvidia-cufft-cu12==11.0.2.54 in /usr/local/lib/python3.11/dist-packages (from torch) (11.0.2.54)\n",
            "Requirement already satisfied: nvidia-curand-cu12==10.3.2.106 in /usr/local/lib/python3.11/dist-packages (from torch) (10.3.2.106)\n",
            "Requirement already satisfied: nvidia-cusolver-cu12==11.4.5.107 in /usr/local/lib/python3.11/dist-packages (from torch) (11.4.5.107)\n",
            "Requirement already satisfied: nvidia-cusparse-cu12==12.1.0.106 in /usr/local/lib/python3.11/dist-packages (from torch) (12.1.0.106)\n",
            "Requirement already satisfied: nvidia-nccl-cu12==2.21.5 in /usr/local/lib/python3.11/dist-packages (from torch) (2.21.5)\n",
            "Requirement already satisfied: nvidia-nvtx-cu12==12.1.105 in /usr/local/lib/python3.11/dist-packages (from torch) (12.1.105)\n",
            "Requirement already satisfied: triton==3.1.0 in /usr/local/lib/python3.11/dist-packages (from torch) (3.1.0)\n",
            "Requirement already satisfied: sympy==1.13.1 in /usr/local/lib/python3.11/dist-packages (from torch) (1.13.1)\n",
            "Requirement already satisfied: nvidia-nvjitlink-cu12 in /usr/local/lib/python3.11/dist-packages (from nvidia-cusolver-cu12==11.4.5.107->torch) (12.6.85)\n",
            "Requirement already satisfied: mpmath<1.4,>=1.1.0 in /usr/local/lib/python3.11/dist-packages (from sympy==1.13.1->torch) (1.3.0)\n",
            "Requirement already satisfied: MarkupSafe>=2.0 in /usr/local/lib/python3.11/dist-packages (from jinja2->torch) (3.0.2)\n"
          ]
        }
      ]
    },
    {
      "cell_type": "code",
      "source": [
        "import torch\n",
        "# Define tensors\n",
        "a = torch.tensor([2.0, 3.0])\n",
        "b = torch.tensor([4.0, 5.0])\n",
        "\n",
        "#Perform Basic Operations\n",
        "sum_result = a + b\n",
        "dot_product = torch.dot(a, b)\n",
        "\n",
        "print(f'Sum: {sum_result}')\n",
        "print(f'Dot Product: {dot_product}')"
      ],
      "metadata": {
        "colab": {
          "base_uri": "https://localhost:8080/"
        },
        "id": "Ztt7QZ3QJYTA",
        "outputId": "0293620d-393c-4df9-dd1d-eb8e86c952a1"
      },
      "execution_count": null,
      "outputs": [
        {
          "output_type": "stream",
          "name": "stdout",
          "text": [
            "Sum: tensor([6., 8.])\n",
            "Dot Product: 23.0\n"
          ]
        }
      ]
    },
    {
      "cell_type": "code",
      "source": [
        "import torch\n",
        "import torch.nn as nn\n",
        "import torch.optim as optim\n",
        "\n",
        "#Define Simple Neural Network\n",
        "class SimpleNN(nn.Module):\n",
        "  def __init__(self):\n",
        "    super(SimpleNN, self).__init__()\n",
        "    self.fc1 = nn.Linear(4, 8)  #Hidden Layer(Input_feature, Output_feature)\n",
        "    self.fc2 = nn.Linear(8, 10)\n",
        "    self.fc3 = nn.Linear(10, 1) #Output Layer\n",
        "\n",
        "  def forward(self, x):\n",
        "    x = torch.relu(self.fc1(x))\n",
        "    x = torch.relu(self.fc2(x))\n",
        "    x = torch.sigmoid(self.fc3(x))\n",
        "    return x\n",
        "\n",
        "#Instantiate the Model\n",
        "model = SimpleNN()\n",
        "#Print the Model Architechture\n",
        "print(model)\n"
      ],
      "metadata": {
        "colab": {
          "base_uri": "https://localhost:8080/"
        },
        "id": "KTuVbYvRMDrC",
        "outputId": "9945b458-4ddf-4f2d-95e2-bca3d6ac8268"
      },
      "execution_count": null,
      "outputs": [
        {
          "output_type": "stream",
          "name": "stdout",
          "text": [
            "SimpleNN(\n",
            "  (fc1): Linear(in_features=4, out_features=8, bias=True)\n",
            "  (fc2): Linear(in_features=8, out_features=10, bias=True)\n",
            "  (fc3): Linear(in_features=10, out_features=1, bias=True)\n",
            ")\n"
          ]
        }
      ]
    },
    {
      "cell_type": "code",
      "source": [
        "#Example Input to Test the model\n",
        "input_data = torch.rand(1, 4) #batch_size=1, input_feature=4\n",
        "output = model(input_data)\n",
        "print(f'Output: {output}')"
      ],
      "metadata": {
        "colab": {
          "base_uri": "https://localhost:8080/"
        },
        "id": "u9o0nk58eSqj",
        "outputId": "bb933b56-971b-45a2-db63-04ea40aea7b3"
      },
      "execution_count": null,
      "outputs": [
        {
          "output_type": "stream",
          "name": "stdout",
          "text": [
            "Output: tensor([[0.5641]], grad_fn=<SigmoidBackward0>)\n"
          ]
        }
      ]
    },
    {
      "cell_type": "code",
      "source": [
        "#Print Trainable Parameters(Weight & Bias)\n",
        "for name, param in model.named_parameters():\n",
        "  print(f'{name}: {param}')"
      ],
      "metadata": {
        "colab": {
          "base_uri": "https://localhost:8080/"
        },
        "id": "KbPDJhw6ftaP",
        "outputId": "e4a28356-8759-4c05-8e90-e879f4030c45"
      },
      "execution_count": null,
      "outputs": [
        {
          "output_type": "stream",
          "name": "stdout",
          "text": [
            "fc1.weight: Parameter containing:\n",
            "tensor([[ 0.3943,  0.0459, -0.0303,  0.2681],\n",
            "        [-0.4963, -0.1912, -0.3991,  0.0605],\n",
            "        [ 0.0981,  0.0294,  0.0457,  0.2057],\n",
            "        [-0.2745,  0.2608,  0.2534,  0.2090],\n",
            "        [-0.2596, -0.2031, -0.2706, -0.1091],\n",
            "        [ 0.1953,  0.2031, -0.3760, -0.0246],\n",
            "        [-0.2683, -0.4103,  0.0472, -0.1715],\n",
            "        [-0.3400, -0.4694,  0.0562, -0.4843]], requires_grad=True)\n",
            "fc1.bias: Parameter containing:\n",
            "tensor([-0.3487, -0.4509,  0.4756, -0.1532, -0.4288, -0.0565,  0.2014, -0.2462],\n",
            "       requires_grad=True)\n",
            "fc2.weight: Parameter containing:\n",
            "tensor([[-0.0498,  0.1656, -0.0916, -0.0910,  0.2236, -0.2578,  0.2192, -0.0780],\n",
            "        [ 0.2467,  0.1460, -0.0997, -0.1207,  0.1307,  0.2354, -0.1027, -0.0660],\n",
            "        [-0.1507,  0.2449,  0.2090, -0.3277,  0.1988,  0.3290,  0.1794, -0.3299],\n",
            "        [ 0.1754,  0.2308,  0.2767, -0.0999, -0.2809,  0.2036,  0.2659, -0.1275],\n",
            "        [ 0.1570, -0.0198,  0.2928, -0.0179, -0.0526,  0.0424, -0.3270,  0.0111],\n",
            "        [ 0.1661, -0.2886,  0.2163,  0.0839,  0.1246, -0.1164, -0.2480, -0.2361],\n",
            "        [-0.3178, -0.1690,  0.3293, -0.2120, -0.3150,  0.1318, -0.2948, -0.0674],\n",
            "        [ 0.1343,  0.1468, -0.0950,  0.2599,  0.3046,  0.1782,  0.1804, -0.2037],\n",
            "        [-0.1370,  0.3393,  0.0051,  0.1721, -0.2280, -0.2340, -0.0020,  0.3479],\n",
            "        [-0.0815,  0.0434, -0.0504,  0.1067,  0.2230,  0.0509,  0.0381,  0.1105]],\n",
            "       requires_grad=True)\n",
            "fc2.bias: Parameter containing:\n",
            "tensor([-0.0922,  0.2600, -0.1730, -0.2655,  0.0255, -0.0847, -0.2180, -0.3152,\n",
            "         0.0792, -0.2311], requires_grad=True)\n",
            "fc3.weight: Parameter containing:\n",
            "tensor([[-0.0979,  0.2630,  0.2135,  0.1011, -0.2189, -0.1777, -0.1356, -0.2118,\n",
            "          0.2909,  0.2559]], requires_grad=True)\n",
            "fc3.bias: Parameter containing:\n",
            "tensor([0.2307], requires_grad=True)\n"
          ]
        }
      ]
    },
    {
      "cell_type": "markdown",
      "source": [
        "# Experiment with IRIS Dataset through Keras"
      ],
      "metadata": {
        "id": "T3d62JwQgYoC"
      }
    },
    {
      "cell_type": "code",
      "source": [
        "import numpy as np\n",
        "import tensorflow as tf\n",
        "from sklearn.datasets import load_iris\n",
        "from sklearn.model_selection import train_test_split\n",
        "from sklearn.preprocessing import OneHotEncoder, StandardScaler"
      ],
      "metadata": {
        "id": "tlHezf1CgKBF"
      },
      "execution_count": null,
      "outputs": []
    },
    {
      "cell_type": "code",
      "source": [
        "#Load the Dataset\n",
        "iris = load_iris()\n",
        "iris"
      ],
      "metadata": {
        "colab": {
          "base_uri": "https://localhost:8080/"
        },
        "id": "A8NLagjwd2cX",
        "outputId": "e6b9ce7b-c3cb-4337-88bd-2af126653f36"
      },
      "execution_count": null,
      "outputs": [
        {
          "output_type": "execute_result",
          "data": {
            "text/plain": [
              "{'data': array([[5.1, 3.5, 1.4, 0.2],\n",
              "        [4.9, 3. , 1.4, 0.2],\n",
              "        [4.7, 3.2, 1.3, 0.2],\n",
              "        [4.6, 3.1, 1.5, 0.2],\n",
              "        [5. , 3.6, 1.4, 0.2],\n",
              "        [5.4, 3.9, 1.7, 0.4],\n",
              "        [4.6, 3.4, 1.4, 0.3],\n",
              "        [5. , 3.4, 1.5, 0.2],\n",
              "        [4.4, 2.9, 1.4, 0.2],\n",
              "        [4.9, 3.1, 1.5, 0.1],\n",
              "        [5.4, 3.7, 1.5, 0.2],\n",
              "        [4.8, 3.4, 1.6, 0.2],\n",
              "        [4.8, 3. , 1.4, 0.1],\n",
              "        [4.3, 3. , 1.1, 0.1],\n",
              "        [5.8, 4. , 1.2, 0.2],\n",
              "        [5.7, 4.4, 1.5, 0.4],\n",
              "        [5.4, 3.9, 1.3, 0.4],\n",
              "        [5.1, 3.5, 1.4, 0.3],\n",
              "        [5.7, 3.8, 1.7, 0.3],\n",
              "        [5.1, 3.8, 1.5, 0.3],\n",
              "        [5.4, 3.4, 1.7, 0.2],\n",
              "        [5.1, 3.7, 1.5, 0.4],\n",
              "        [4.6, 3.6, 1. , 0.2],\n",
              "        [5.1, 3.3, 1.7, 0.5],\n",
              "        [4.8, 3.4, 1.9, 0.2],\n",
              "        [5. , 3. , 1.6, 0.2],\n",
              "        [5. , 3.4, 1.6, 0.4],\n",
              "        [5.2, 3.5, 1.5, 0.2],\n",
              "        [5.2, 3.4, 1.4, 0.2],\n",
              "        [4.7, 3.2, 1.6, 0.2],\n",
              "        [4.8, 3.1, 1.6, 0.2],\n",
              "        [5.4, 3.4, 1.5, 0.4],\n",
              "        [5.2, 4.1, 1.5, 0.1],\n",
              "        [5.5, 4.2, 1.4, 0.2],\n",
              "        [4.9, 3.1, 1.5, 0.2],\n",
              "        [5. , 3.2, 1.2, 0.2],\n",
              "        [5.5, 3.5, 1.3, 0.2],\n",
              "        [4.9, 3.6, 1.4, 0.1],\n",
              "        [4.4, 3. , 1.3, 0.2],\n",
              "        [5.1, 3.4, 1.5, 0.2],\n",
              "        [5. , 3.5, 1.3, 0.3],\n",
              "        [4.5, 2.3, 1.3, 0.3],\n",
              "        [4.4, 3.2, 1.3, 0.2],\n",
              "        [5. , 3.5, 1.6, 0.6],\n",
              "        [5.1, 3.8, 1.9, 0.4],\n",
              "        [4.8, 3. , 1.4, 0.3],\n",
              "        [5.1, 3.8, 1.6, 0.2],\n",
              "        [4.6, 3.2, 1.4, 0.2],\n",
              "        [5.3, 3.7, 1.5, 0.2],\n",
              "        [5. , 3.3, 1.4, 0.2],\n",
              "        [7. , 3.2, 4.7, 1.4],\n",
              "        [6.4, 3.2, 4.5, 1.5],\n",
              "        [6.9, 3.1, 4.9, 1.5],\n",
              "        [5.5, 2.3, 4. , 1.3],\n",
              "        [6.5, 2.8, 4.6, 1.5],\n",
              "        [5.7, 2.8, 4.5, 1.3],\n",
              "        [6.3, 3.3, 4.7, 1.6],\n",
              "        [4.9, 2.4, 3.3, 1. ],\n",
              "        [6.6, 2.9, 4.6, 1.3],\n",
              "        [5.2, 2.7, 3.9, 1.4],\n",
              "        [5. , 2. , 3.5, 1. ],\n",
              "        [5.9, 3. , 4.2, 1.5],\n",
              "        [6. , 2.2, 4. , 1. ],\n",
              "        [6.1, 2.9, 4.7, 1.4],\n",
              "        [5.6, 2.9, 3.6, 1.3],\n",
              "        [6.7, 3.1, 4.4, 1.4],\n",
              "        [5.6, 3. , 4.5, 1.5],\n",
              "        [5.8, 2.7, 4.1, 1. ],\n",
              "        [6.2, 2.2, 4.5, 1.5],\n",
              "        [5.6, 2.5, 3.9, 1.1],\n",
              "        [5.9, 3.2, 4.8, 1.8],\n",
              "        [6.1, 2.8, 4. , 1.3],\n",
              "        [6.3, 2.5, 4.9, 1.5],\n",
              "        [6.1, 2.8, 4.7, 1.2],\n",
              "        [6.4, 2.9, 4.3, 1.3],\n",
              "        [6.6, 3. , 4.4, 1.4],\n",
              "        [6.8, 2.8, 4.8, 1.4],\n",
              "        [6.7, 3. , 5. , 1.7],\n",
              "        [6. , 2.9, 4.5, 1.5],\n",
              "        [5.7, 2.6, 3.5, 1. ],\n",
              "        [5.5, 2.4, 3.8, 1.1],\n",
              "        [5.5, 2.4, 3.7, 1. ],\n",
              "        [5.8, 2.7, 3.9, 1.2],\n",
              "        [6. , 2.7, 5.1, 1.6],\n",
              "        [5.4, 3. , 4.5, 1.5],\n",
              "        [6. , 3.4, 4.5, 1.6],\n",
              "        [6.7, 3.1, 4.7, 1.5],\n",
              "        [6.3, 2.3, 4.4, 1.3],\n",
              "        [5.6, 3. , 4.1, 1.3],\n",
              "        [5.5, 2.5, 4. , 1.3],\n",
              "        [5.5, 2.6, 4.4, 1.2],\n",
              "        [6.1, 3. , 4.6, 1.4],\n",
              "        [5.8, 2.6, 4. , 1.2],\n",
              "        [5. , 2.3, 3.3, 1. ],\n",
              "        [5.6, 2.7, 4.2, 1.3],\n",
              "        [5.7, 3. , 4.2, 1.2],\n",
              "        [5.7, 2.9, 4.2, 1.3],\n",
              "        [6.2, 2.9, 4.3, 1.3],\n",
              "        [5.1, 2.5, 3. , 1.1],\n",
              "        [5.7, 2.8, 4.1, 1.3],\n",
              "        [6.3, 3.3, 6. , 2.5],\n",
              "        [5.8, 2.7, 5.1, 1.9],\n",
              "        [7.1, 3. , 5.9, 2.1],\n",
              "        [6.3, 2.9, 5.6, 1.8],\n",
              "        [6.5, 3. , 5.8, 2.2],\n",
              "        [7.6, 3. , 6.6, 2.1],\n",
              "        [4.9, 2.5, 4.5, 1.7],\n",
              "        [7.3, 2.9, 6.3, 1.8],\n",
              "        [6.7, 2.5, 5.8, 1.8],\n",
              "        [7.2, 3.6, 6.1, 2.5],\n",
              "        [6.5, 3.2, 5.1, 2. ],\n",
              "        [6.4, 2.7, 5.3, 1.9],\n",
              "        [6.8, 3. , 5.5, 2.1],\n",
              "        [5.7, 2.5, 5. , 2. ],\n",
              "        [5.8, 2.8, 5.1, 2.4],\n",
              "        [6.4, 3.2, 5.3, 2.3],\n",
              "        [6.5, 3. , 5.5, 1.8],\n",
              "        [7.7, 3.8, 6.7, 2.2],\n",
              "        [7.7, 2.6, 6.9, 2.3],\n",
              "        [6. , 2.2, 5. , 1.5],\n",
              "        [6.9, 3.2, 5.7, 2.3],\n",
              "        [5.6, 2.8, 4.9, 2. ],\n",
              "        [7.7, 2.8, 6.7, 2. ],\n",
              "        [6.3, 2.7, 4.9, 1.8],\n",
              "        [6.7, 3.3, 5.7, 2.1],\n",
              "        [7.2, 3.2, 6. , 1.8],\n",
              "        [6.2, 2.8, 4.8, 1.8],\n",
              "        [6.1, 3. , 4.9, 1.8],\n",
              "        [6.4, 2.8, 5.6, 2.1],\n",
              "        [7.2, 3. , 5.8, 1.6],\n",
              "        [7.4, 2.8, 6.1, 1.9],\n",
              "        [7.9, 3.8, 6.4, 2. ],\n",
              "        [6.4, 2.8, 5.6, 2.2],\n",
              "        [6.3, 2.8, 5.1, 1.5],\n",
              "        [6.1, 2.6, 5.6, 1.4],\n",
              "        [7.7, 3. , 6.1, 2.3],\n",
              "        [6.3, 3.4, 5.6, 2.4],\n",
              "        [6.4, 3.1, 5.5, 1.8],\n",
              "        [6. , 3. , 4.8, 1.8],\n",
              "        [6.9, 3.1, 5.4, 2.1],\n",
              "        [6.7, 3.1, 5.6, 2.4],\n",
              "        [6.9, 3.1, 5.1, 2.3],\n",
              "        [5.8, 2.7, 5.1, 1.9],\n",
              "        [6.8, 3.2, 5.9, 2.3],\n",
              "        [6.7, 3.3, 5.7, 2.5],\n",
              "        [6.7, 3. , 5.2, 2.3],\n",
              "        [6.3, 2.5, 5. , 1.9],\n",
              "        [6.5, 3. , 5.2, 2. ],\n",
              "        [6.2, 3.4, 5.4, 2.3],\n",
              "        [5.9, 3. , 5.1, 1.8]]),\n",
              " 'target': array([0, 0, 0, 0, 0, 0, 0, 0, 0, 0, 0, 0, 0, 0, 0, 0, 0, 0, 0, 0, 0, 0,\n",
              "        0, 0, 0, 0, 0, 0, 0, 0, 0, 0, 0, 0, 0, 0, 0, 0, 0, 0, 0, 0, 0, 0,\n",
              "        0, 0, 0, 0, 0, 0, 1, 1, 1, 1, 1, 1, 1, 1, 1, 1, 1, 1, 1, 1, 1, 1,\n",
              "        1, 1, 1, 1, 1, 1, 1, 1, 1, 1, 1, 1, 1, 1, 1, 1, 1, 1, 1, 1, 1, 1,\n",
              "        1, 1, 1, 1, 1, 1, 1, 1, 1, 1, 1, 1, 2, 2, 2, 2, 2, 2, 2, 2, 2, 2,\n",
              "        2, 2, 2, 2, 2, 2, 2, 2, 2, 2, 2, 2, 2, 2, 2, 2, 2, 2, 2, 2, 2, 2,\n",
              "        2, 2, 2, 2, 2, 2, 2, 2, 2, 2, 2, 2, 2, 2, 2, 2, 2, 2]),\n",
              " 'frame': None,\n",
              " 'target_names': array(['setosa', 'versicolor', 'virginica'], dtype='<U10'),\n",
              " 'DESCR': '.. _iris_dataset:\\n\\nIris plants dataset\\n--------------------\\n\\n**Data Set Characteristics:**\\n\\n:Number of Instances: 150 (50 in each of three classes)\\n:Number of Attributes: 4 numeric, predictive attributes and the class\\n:Attribute Information:\\n    - sepal length in cm\\n    - sepal width in cm\\n    - petal length in cm\\n    - petal width in cm\\n    - class:\\n            - Iris-Setosa\\n            - Iris-Versicolour\\n            - Iris-Virginica\\n\\n:Summary Statistics:\\n\\n============== ==== ==== ======= ===== ====================\\n                Min  Max   Mean    SD   Class Correlation\\n============== ==== ==== ======= ===== ====================\\nsepal length:   4.3  7.9   5.84   0.83    0.7826\\nsepal width:    2.0  4.4   3.05   0.43   -0.4194\\npetal length:   1.0  6.9   3.76   1.76    0.9490  (high!)\\npetal width:    0.1  2.5   1.20   0.76    0.9565  (high!)\\n============== ==== ==== ======= ===== ====================\\n\\n:Missing Attribute Values: None\\n:Class Distribution: 33.3% for each of 3 classes.\\n:Creator: R.A. Fisher\\n:Donor: Michael Marshall (MARSHALL%PLU@io.arc.nasa.gov)\\n:Date: July, 1988\\n\\nThe famous Iris database, first used by Sir R.A. Fisher. The dataset is taken\\nfrom Fisher\\'s paper. Note that it\\'s the same as in R, but not as in the UCI\\nMachine Learning Repository, which has two wrong data points.\\n\\nThis is perhaps the best known database to be found in the\\npattern recognition literature.  Fisher\\'s paper is a classic in the field and\\nis referenced frequently to this day.  (See Duda & Hart, for example.)  The\\ndata set contains 3 classes of 50 instances each, where each class refers to a\\ntype of iris plant.  One class is linearly separable from the other 2; the\\nlatter are NOT linearly separable from each other.\\n\\n.. dropdown:: References\\n\\n  - Fisher, R.A. \"The use of multiple measurements in taxonomic problems\"\\n    Annual Eugenics, 7, Part II, 179-188 (1936); also in \"Contributions to\\n    Mathematical Statistics\" (John Wiley, NY, 1950).\\n  - Duda, R.O., & Hart, P.E. (1973) Pattern Classification and Scene Analysis.\\n    (Q327.D83) John Wiley & Sons.  ISBN 0-471-22361-1.  See page 218.\\n  - Dasarathy, B.V. (1980) \"Nosing Around the Neighborhood: A New System\\n    Structure and Classification Rule for Recognition in Partially Exposed\\n    Environments\".  IEEE Transactions on Pattern Analysis and Machine\\n    Intelligence, Vol. PAMI-2, No. 1, 67-71.\\n  - Gates, G.W. (1972) \"The Reduced Nearest Neighbor Rule\".  IEEE Transactions\\n    on Information Theory, May 1972, 431-433.\\n  - See also: 1988 MLC Proceedings, 54-64.  Cheeseman et al\"s AUTOCLASS II\\n    conceptual clustering system finds 3 classes in the data.\\n  - Many, many more ...\\n',\n",
              " 'feature_names': ['sepal length (cm)',\n",
              "  'sepal width (cm)',\n",
              "  'petal length (cm)',\n",
              "  'petal width (cm)'],\n",
              " 'filename': 'iris.csv',\n",
              " 'data_module': 'sklearn.datasets.data'}"
            ]
          },
          "metadata": {},
          "execution_count": 5
        }
      ]
    },
    {
      "cell_type": "code",
      "source": [
        "X = iris.data\n",
        "y = iris.target"
      ],
      "metadata": {
        "id": "k45qcf0ceKP1"
      },
      "execution_count": null,
      "outputs": []
    },
    {
      "cell_type": "code",
      "source": [
        "X.shape"
      ],
      "metadata": {
        "colab": {
          "base_uri": "https://localhost:8080/"
        },
        "id": "TJkOkST9eqda",
        "outputId": "165a9a22-1fe0-4e36-beca-5cd30fbed650"
      },
      "execution_count": null,
      "outputs": [
        {
          "output_type": "execute_result",
          "data": {
            "text/plain": [
              "(150, 4)"
            ]
          },
          "metadata": {},
          "execution_count": 9
        }
      ]
    },
    {
      "cell_type": "code",
      "source": [
        "y.shape"
      ],
      "metadata": {
        "colab": {
          "base_uri": "https://localhost:8080/"
        },
        "id": "MuZn4_P7e3kc",
        "outputId": "708cfc39-8f42-420a-b705-1452dd169c02"
      },
      "execution_count": null,
      "outputs": [
        {
          "output_type": "execute_result",
          "data": {
            "text/plain": [
              "(150,)"
            ]
          },
          "metadata": {},
          "execution_count": 10
        }
      ]
    },
    {
      "cell_type": "markdown",
      "source": [
        "## Label Encoding"
      ],
      "metadata": {
        "id": "liLl_wKKj4Tw"
      }
    },
    {
      "cell_type": "code",
      "source": [
        "# One hot encode the classes (since we have 3 classes)\n",
        "encoder = OneHotEncoder(sparse_output=False)\n",
        "y = encoder.fit_transform(y.reshape(-1, 1))\n",
        "\n",
        "# Split the dataset into training and testing sets\n",
        "X_train, X_test, y_train, y_test = train_test_split(X, y, test_size=0.2, random_state=42)"
      ],
      "metadata": {
        "id": "9at_egtme-ha"
      },
      "execution_count": null,
      "outputs": []
    },
    {
      "cell_type": "markdown",
      "source": [
        "## Feature Scaling"
      ],
      "metadata": {
        "id": "XxqzvJwKkdgn"
      }
    },
    {
      "cell_type": "code",
      "source": [
        "scaler = StandardScaler()\n",
        "X_train  =scaler.fit_transform(X_train)\n",
        "X_test = scaler.transform(X_test)"
      ],
      "metadata": {
        "id": "3anNnN7Xj9I2"
      },
      "execution_count": null,
      "outputs": []
    },
    {
      "cell_type": "code",
      "source": [
        "X_train[1:5]"
      ],
      "metadata": {
        "colab": {
          "base_uri": "https://localhost:8080/"
        },
        "id": "Z8EtkVm0oP9R",
        "outputId": "c4068bc1-86be-4733-d43b-15b141fa951d"
      },
      "execution_count": null,
      "outputs": [
        {
          "output_type": "execute_result",
          "data": {
            "text/plain": [
              "array([[-0.13307079,  2.99237573, -1.27600637, -1.04563275],\n",
              "       [ 1.08589829,  0.08570939,  0.38585821,  0.28921757],\n",
              "       [-1.23014297,  0.75647855, -1.2187007 , -1.31260282],\n",
              "       [-1.7177306 ,  0.30929911, -1.39061772, -1.31260282]])"
            ]
          },
          "metadata": {},
          "execution_count": 15
        }
      ]
    },
    {
      "cell_type": "code",
      "source": [
        "X_test[1:5]"
      ],
      "metadata": {
        "colab": {
          "base_uri": "https://localhost:8080/"
        },
        "id": "_1kS7pPPoTGr",
        "outputId": "dcf0f11e-bba0-414b-8a1b-b8c5594eb235"
      },
      "execution_count": null,
      "outputs": [
        {
          "output_type": "execute_result",
          "data": {
            "text/plain": [
              "array([[-0.13307079,  1.65083742, -1.16139502, -1.17911778],\n",
              "       [ 2.30486738, -1.0322392 ,  1.8185001 ,  1.49058286],\n",
              "       [ 0.23261993, -0.36147005,  0.44316389,  0.4227026 ],\n",
              "       [ 1.2077952 , -0.58505976,  0.61508092,  0.28921757]])"
            ]
          },
          "metadata": {},
          "execution_count": 16
        }
      ]
    },
    {
      "cell_type": "markdown",
      "source": [
        "## Apply Sigmoid in all Layers"
      ],
      "metadata": {
        "id": "BXHBssQ8xyLW"
      }
    },
    {
      "cell_type": "code",
      "source": [
        "# Define a Simple Neural Network using Sigmoid Activation in all layers\n",
        "def build_model_sigmoid():\n",
        "  model = tf.keras.Sequential([\n",
        "      tf.keras.layers.Dense(10, activation='sigmoid', input_shape=(4,)),   # Hidden Layer with Sigmoid\n",
        "      tf.keras.layers.Dense(10, activation='sigmoid'),       #Another hidden layer with sigmoid\n",
        "      tf.keras.layers.Dense(3, activation='softmax')  #output layer with Softmax Activation\n",
        "  ])\n",
        "  model.compile(optimizer='adam', loss='categorical_crossentropy', metrics=['accuracy'])\n",
        "  return model"
      ],
      "metadata": {
        "id": "fVlg4gRbocUk"
      },
      "execution_count": null,
      "outputs": []
    },
    {
      "cell_type": "code",
      "source": [
        "#Build the Model\n",
        "model_sigmoid = build_model_sigmoid()\n",
        "\n",
        "#Train the Model\n",
        "history_sigmoid = model_sigmoid.fit(X_train, y_train, epochs=50, validation_data=(X_test, y_test), verbose=2)"
      ],
      "metadata": {
        "id": "JMURqUIBsLAA",
        "colab": {
          "base_uri": "https://localhost:8080/"
        },
        "outputId": "97376896-499c-4fb0-a6bf-dd759ab0009a"
      },
      "execution_count": null,
      "outputs": [
        {
          "output_type": "stream",
          "name": "stderr",
          "text": [
            "/usr/local/lib/python3.11/dist-packages/keras/src/layers/core/dense.py:87: UserWarning: Do not pass an `input_shape`/`input_dim` argument to a layer. When using Sequential models, prefer using an `Input(shape)` object as the first layer in the model instead.\n",
            "  super().__init__(activity_regularizer=activity_regularizer, **kwargs)\n"
          ]
        },
        {
          "output_type": "stream",
          "name": "stdout",
          "text": [
            "Epoch 1/50\n",
            "4/4 - 4s - 952ms/step - accuracy: 0.3250 - loss: 1.3763 - val_accuracy: 0.3667 - val_loss: 1.2896\n",
            "Epoch 2/50\n",
            "4/4 - 0s - 11ms/step - accuracy: 0.3250 - loss: 1.3486 - val_accuracy: 0.3667 - val_loss: 1.2661\n",
            "Epoch 3/50\n",
            "4/4 - 0s - 11ms/step - accuracy: 0.3250 - loss: 1.3230 - val_accuracy: 0.3667 - val_loss: 1.2438\n",
            "Epoch 4/50\n",
            "4/4 - 0s - 13ms/step - accuracy: 0.3250 - loss: 1.2972 - val_accuracy: 0.3667 - val_loss: 1.2232\n",
            "Epoch 5/50\n",
            "4/4 - 0s - 14ms/step - accuracy: 0.3250 - loss: 1.2753 - val_accuracy: 0.3667 - val_loss: 1.2038\n",
            "Epoch 6/50\n",
            "4/4 - 0s - 14ms/step - accuracy: 0.3250 - loss: 1.2538 - val_accuracy: 0.3667 - val_loss: 1.1857\n",
            "Epoch 7/50\n",
            "4/4 - 0s - 10ms/step - accuracy: 0.3250 - loss: 1.2324 - val_accuracy: 0.3667 - val_loss: 1.1693\n",
            "Epoch 8/50\n",
            "4/4 - 0s - 14ms/step - accuracy: 0.3250 - loss: 1.2130 - val_accuracy: 0.3667 - val_loss: 1.1541\n",
            "Epoch 9/50\n",
            "4/4 - 0s - 17ms/step - accuracy: 0.3250 - loss: 1.1956 - val_accuracy: 0.3667 - val_loss: 1.1402\n",
            "Epoch 10/50\n",
            "4/4 - 0s - 11ms/step - accuracy: 0.3250 - loss: 1.1794 - val_accuracy: 0.3667 - val_loss: 1.1274\n",
            "Epoch 11/50\n",
            "4/4 - 0s - 14ms/step - accuracy: 0.3250 - loss: 1.1655 - val_accuracy: 0.3667 - val_loss: 1.1155\n",
            "Epoch 12/50\n",
            "4/4 - 0s - 10ms/step - accuracy: 0.3250 - loss: 1.1506 - val_accuracy: 0.3667 - val_loss: 1.1049\n",
            "Epoch 13/50\n",
            "4/4 - 0s - 11ms/step - accuracy: 0.3250 - loss: 1.1387 - val_accuracy: 0.3667 - val_loss: 1.0951\n",
            "Epoch 14/50\n",
            "4/4 - 0s - 10ms/step - accuracy: 0.3250 - loss: 1.1266 - val_accuracy: 0.3667 - val_loss: 1.0863\n",
            "Epoch 15/50\n",
            "4/4 - 0s - 10ms/step - accuracy: 0.3250 - loss: 1.1157 - val_accuracy: 0.3667 - val_loss: 1.0783\n",
            "Epoch 16/50\n",
            "4/4 - 0s - 15ms/step - accuracy: 0.3250 - loss: 1.1069 - val_accuracy: 0.3667 - val_loss: 1.0709\n",
            "Epoch 17/50\n",
            "4/4 - 0s - 13ms/step - accuracy: 0.3250 - loss: 1.0977 - val_accuracy: 0.3667 - val_loss: 1.0644\n",
            "Epoch 18/50\n",
            "4/4 - 0s - 11ms/step - accuracy: 0.3250 - loss: 1.0886 - val_accuracy: 0.3667 - val_loss: 1.0585\n",
            "Epoch 19/50\n",
            "4/4 - 0s - 14ms/step - accuracy: 0.3250 - loss: 1.0819 - val_accuracy: 0.3667 - val_loss: 1.0530\n",
            "Epoch 20/50\n",
            "4/4 - 0s - 15ms/step - accuracy: 0.3250 - loss: 1.0736 - val_accuracy: 0.3667 - val_loss: 1.0483\n",
            "Epoch 21/50\n",
            "4/4 - 0s - 15ms/step - accuracy: 0.3250 - loss: 1.0683 - val_accuracy: 0.3667 - val_loss: 1.0437\n",
            "Epoch 22/50\n",
            "4/4 - 0s - 13ms/step - accuracy: 0.3250 - loss: 1.0625 - val_accuracy: 0.3667 - val_loss: 1.0395\n",
            "Epoch 23/50\n",
            "4/4 - 0s - 13ms/step - accuracy: 0.3250 - loss: 1.0565 - val_accuracy: 0.3667 - val_loss: 1.0356\n",
            "Epoch 24/50\n",
            "4/4 - 0s - 12ms/step - accuracy: 0.3250 - loss: 1.0515 - val_accuracy: 0.3667 - val_loss: 1.0320\n",
            "Epoch 25/50\n",
            "4/4 - 0s - 10ms/step - accuracy: 0.3250 - loss: 1.0465 - val_accuracy: 0.3667 - val_loss: 1.0285\n",
            "Epoch 26/50\n",
            "4/4 - 0s - 12ms/step - accuracy: 0.3250 - loss: 1.0422 - val_accuracy: 0.3667 - val_loss: 1.0252\n",
            "Epoch 27/50\n",
            "4/4 - 0s - 13ms/step - accuracy: 0.3250 - loss: 1.0374 - val_accuracy: 0.3667 - val_loss: 1.0222\n",
            "Epoch 28/50\n",
            "4/4 - 0s - 13ms/step - accuracy: 0.3250 - loss: 1.0338 - val_accuracy: 0.3667 - val_loss: 1.0191\n",
            "Epoch 29/50\n",
            "4/4 - 0s - 10ms/step - accuracy: 0.3250 - loss: 1.0297 - val_accuracy: 0.3667 - val_loss: 1.0162\n",
            "Epoch 30/50\n",
            "4/4 - 0s - 14ms/step - accuracy: 0.3250 - loss: 1.0258 - val_accuracy: 0.3667 - val_loss: 1.0135\n",
            "Epoch 31/50\n",
            "4/4 - 0s - 10ms/step - accuracy: 0.3250 - loss: 1.0222 - val_accuracy: 0.3667 - val_loss: 1.0107\n",
            "Epoch 32/50\n",
            "4/4 - 0s - 12ms/step - accuracy: 0.3333 - loss: 1.0188 - val_accuracy: 0.3667 - val_loss: 1.0081\n",
            "Epoch 33/50\n",
            "4/4 - 0s - 20ms/step - accuracy: 0.3417 - loss: 1.0161 - val_accuracy: 0.4000 - val_loss: 1.0054\n",
            "Epoch 34/50\n",
            "4/4 - 0s - 30ms/step - accuracy: 0.3417 - loss: 1.0124 - val_accuracy: 0.4000 - val_loss: 1.0028\n",
            "Epoch 35/50\n",
            "4/4 - 0s - 36ms/step - accuracy: 0.3500 - loss: 1.0091 - val_accuracy: 0.4000 - val_loss: 1.0003\n",
            "Epoch 36/50\n",
            "4/4 - 0s - 20ms/step - accuracy: 0.3750 - loss: 1.0068 - val_accuracy: 0.4000 - val_loss: 0.9978\n",
            "Epoch 37/50\n",
            "4/4 - 0s - 17ms/step - accuracy: 0.3917 - loss: 1.0032 - val_accuracy: 0.4333 - val_loss: 0.9952\n",
            "Epoch 38/50\n",
            "4/4 - 0s - 33ms/step - accuracy: 0.5250 - loss: 0.9998 - val_accuracy: 0.5667 - val_loss: 0.9924\n",
            "Epoch 39/50\n",
            "4/4 - 0s - 40ms/step - accuracy: 0.6667 - loss: 0.9970 - val_accuracy: 0.7000 - val_loss: 0.9895\n",
            "Epoch 40/50\n",
            "4/4 - 0s - 27ms/step - accuracy: 0.7167 - loss: 0.9938 - val_accuracy: 0.7333 - val_loss: 0.9867\n",
            "Epoch 41/50\n",
            "4/4 - 0s - 14ms/step - accuracy: 0.7417 - loss: 0.9909 - val_accuracy: 0.7000 - val_loss: 0.9837\n",
            "Epoch 42/50\n",
            "4/4 - 0s - 17ms/step - accuracy: 0.7417 - loss: 0.9879 - val_accuracy: 0.8000 - val_loss: 0.9809\n",
            "Epoch 43/50\n",
            "4/4 - 0s - 35ms/step - accuracy: 0.7250 - loss: 0.9846 - val_accuracy: 0.8000 - val_loss: 0.9781\n",
            "Epoch 44/50\n",
            "4/4 - 0s - 15ms/step - accuracy: 0.7167 - loss: 0.9817 - val_accuracy: 0.8333 - val_loss: 0.9753\n",
            "Epoch 45/50\n",
            "4/4 - 0s - 20ms/step - accuracy: 0.7000 - loss: 0.9787 - val_accuracy: 0.8333 - val_loss: 0.9724\n",
            "Epoch 46/50\n",
            "4/4 - 0s - 20ms/step - accuracy: 0.7250 - loss: 0.9755 - val_accuracy: 0.8333 - val_loss: 0.9694\n",
            "Epoch 47/50\n",
            "4/4 - 0s - 16ms/step - accuracy: 0.7167 - loss: 0.9725 - val_accuracy: 0.8000 - val_loss: 0.9665\n",
            "Epoch 48/50\n",
            "4/4 - 0s - 34ms/step - accuracy: 0.7250 - loss: 0.9691 - val_accuracy: 0.7667 - val_loss: 0.9633\n",
            "Epoch 49/50\n",
            "4/4 - 0s - 35ms/step - accuracy: 0.7250 - loss: 0.9658 - val_accuracy: 0.8000 - val_loss: 0.9600\n",
            "Epoch 50/50\n",
            "4/4 - 0s - 31ms/step - accuracy: 0.7167 - loss: 0.9625 - val_accuracy: 0.8000 - val_loss: 0.9567\n"
          ]
        }
      ]
    },
    {
      "cell_type": "code",
      "source": [
        "#Evaluate the Model\n",
        "test_loss_sigmoid, test_acc_sigmoid = model_sigmoid.evaluate(X_test, y_test, verbose=2)\n",
        "print(f'Test Accuracy (Sigmoid): {test_acc_sigmoid}')"
      ],
      "metadata": {
        "colab": {
          "base_uri": "https://localhost:8080/"
        },
        "id": "_aavbmMUurLg",
        "outputId": "11104848-b1be-42c0-d083-7e995791476b"
      },
      "execution_count": null,
      "outputs": [
        {
          "output_type": "stream",
          "name": "stdout",
          "text": [
            "1/1 - 0s - 64ms/step - accuracy: 0.8000 - loss: 0.9567\n",
            "Test Accuracy (Sigmoid): 0.800000011920929\n"
          ]
        }
      ]
    },
    {
      "cell_type": "markdown",
      "source": [
        "## Apply Relu in all Layers"
      ],
      "metadata": {
        "id": "bGff_EAHx4bk"
      }
    },
    {
      "cell_type": "code",
      "source": [
        "#Define a Simple Neural Network by using Relu in all layers\n",
        "def build_model_relu():\n",
        "  model = tf.keras.Sequential([\n",
        "      tf.keras.layers.Dense(10, activation='relu', input_shape=(4,)),   #First Hidden Layer\n",
        "      tf.keras.layers.Dense(10, activation='relu'),   #Second Hidden Layer\n",
        "      tf.keras.layers.Dense(3, activation='softmax')  #Output Layer\n",
        "  ])\n",
        "  model.compile(optimizer='adam', loss='categorical_crossentropy', metrics=['accuracy'])\n",
        "  return model"
      ],
      "metadata": {
        "id": "sgn46-fHvWFT"
      },
      "execution_count": null,
      "outputs": []
    },
    {
      "cell_type": "code",
      "source": [
        "#Build Model\n",
        "model_relu = build_model_relu()\n",
        "\n",
        "#Train the Model\n",
        "history_relu = model_relu.fit(X_train, y_train, epochs=50, validation_data=(X_test, y_test), verbose=2)"
      ],
      "metadata": {
        "colab": {
          "base_uri": "https://localhost:8080/"
        },
        "id": "LJiehLAcwbq1",
        "outputId": "559a51d2-0405-4b69-b15f-02efe60a06e9"
      },
      "execution_count": null,
      "outputs": [
        {
          "output_type": "stream",
          "name": "stdout",
          "text": [
            "Epoch 1/50\n"
          ]
        },
        {
          "output_type": "stream",
          "name": "stderr",
          "text": [
            "/usr/local/lib/python3.11/dist-packages/keras/src/layers/core/dense.py:87: UserWarning: Do not pass an `input_shape`/`input_dim` argument to a layer. When using Sequential models, prefer using an `Input(shape)` object as the first layer in the model instead.\n",
            "  super().__init__(activity_regularizer=activity_regularizer, **kwargs)\n"
          ]
        },
        {
          "output_type": "stream",
          "name": "stdout",
          "text": [
            "4/4 - 5s - 1s/step - accuracy: 0.1750 - loss: 1.1922 - val_accuracy: 0.1667 - val_loss: 1.1796\n",
            "Epoch 2/50\n",
            "4/4 - 0s - 11ms/step - accuracy: 0.1750 - loss: 1.1674 - val_accuracy: 0.1667 - val_loss: 1.1536\n",
            "Epoch 3/50\n",
            "4/4 - 0s - 14ms/step - accuracy: 0.2083 - loss: 1.1447 - val_accuracy: 0.1667 - val_loss: 1.1285\n",
            "Epoch 4/50\n",
            "4/4 - 0s - 14ms/step - accuracy: 0.2083 - loss: 1.1231 - val_accuracy: 0.2000 - val_loss: 1.1039\n",
            "Epoch 5/50\n",
            "4/4 - 0s - 10ms/step - accuracy: 0.2333 - loss: 1.1020 - val_accuracy: 0.2333 - val_loss: 1.0799\n",
            "Epoch 6/50\n",
            "4/4 - 0s - 14ms/step - accuracy: 0.2583 - loss: 1.0804 - val_accuracy: 0.3000 - val_loss: 1.0566\n",
            "Epoch 7/50\n",
            "4/4 - 0s - 10ms/step - accuracy: 0.2917 - loss: 1.0615 - val_accuracy: 0.3000 - val_loss: 1.0338\n",
            "Epoch 8/50\n",
            "4/4 - 0s - 10ms/step - accuracy: 0.3333 - loss: 1.0415 - val_accuracy: 0.3667 - val_loss: 1.0118\n",
            "Epoch 9/50\n",
            "4/4 - 0s - 14ms/step - accuracy: 0.3833 - loss: 1.0215 - val_accuracy: 0.4667 - val_loss: 0.9902\n",
            "Epoch 10/50\n",
            "4/4 - 0s - 13ms/step - accuracy: 0.4833 - loss: 1.0028 - val_accuracy: 0.5000 - val_loss: 0.9687\n",
            "Epoch 11/50\n",
            "4/4 - 0s - 12ms/step - accuracy: 0.5667 - loss: 0.9838 - val_accuracy: 0.5667 - val_loss: 0.9471\n",
            "Epoch 12/50\n",
            "4/4 - 0s - 10ms/step - accuracy: 0.6417 - loss: 0.9641 - val_accuracy: 0.7333 - val_loss: 0.9259\n",
            "Epoch 13/50\n",
            "4/4 - 0s - 10ms/step - accuracy: 0.6750 - loss: 0.9458 - val_accuracy: 0.7667 - val_loss: 0.9045\n",
            "Epoch 14/50\n",
            "4/4 - 0s - 15ms/step - accuracy: 0.6833 - loss: 0.9277 - val_accuracy: 0.8000 - val_loss: 0.8830\n",
            "Epoch 15/50\n",
            "4/4 - 0s - 15ms/step - accuracy: 0.6917 - loss: 0.9088 - val_accuracy: 0.8000 - val_loss: 0.8621\n",
            "Epoch 16/50\n",
            "4/4 - 0s - 14ms/step - accuracy: 0.7000 - loss: 0.8900 - val_accuracy: 0.8000 - val_loss: 0.8413\n",
            "Epoch 17/50\n",
            "4/4 - 0s - 11ms/step - accuracy: 0.7000 - loss: 0.8724 - val_accuracy: 0.8000 - val_loss: 0.8201\n",
            "Epoch 18/50\n",
            "4/4 - 0s - 14ms/step - accuracy: 0.7083 - loss: 0.8543 - val_accuracy: 0.8000 - val_loss: 0.7993\n",
            "Epoch 19/50\n",
            "4/4 - 0s - 10ms/step - accuracy: 0.7333 - loss: 0.8360 - val_accuracy: 0.8000 - val_loss: 0.7786\n",
            "Epoch 20/50\n",
            "4/4 - 0s - 14ms/step - accuracy: 0.7333 - loss: 0.8180 - val_accuracy: 0.8000 - val_loss: 0.7581\n",
            "Epoch 21/50\n",
            "4/4 - 0s - 14ms/step - accuracy: 0.7417 - loss: 0.7995 - val_accuracy: 0.8333 - val_loss: 0.7380\n",
            "Epoch 22/50\n",
            "4/4 - 0s - 10ms/step - accuracy: 0.7417 - loss: 0.7825 - val_accuracy: 0.8333 - val_loss: 0.7174\n",
            "Epoch 23/50\n",
            "4/4 - 0s - 14ms/step - accuracy: 0.7500 - loss: 0.7647 - val_accuracy: 0.8333 - val_loss: 0.6975\n",
            "Epoch 24/50\n",
            "4/4 - 0s - 14ms/step - accuracy: 0.7583 - loss: 0.7478 - val_accuracy: 0.8333 - val_loss: 0.6777\n",
            "Epoch 25/50\n",
            "4/4 - 0s - 14ms/step - accuracy: 0.7667 - loss: 0.7301 - val_accuracy: 0.8333 - val_loss: 0.6588\n",
            "Epoch 26/50\n",
            "4/4 - 0s - 14ms/step - accuracy: 0.7667 - loss: 0.7136 - val_accuracy: 0.8333 - val_loss: 0.6402\n",
            "Epoch 27/50\n",
            "4/4 - 0s - 10ms/step - accuracy: 0.7750 - loss: 0.6973 - val_accuracy: 0.8333 - val_loss: 0.6222\n",
            "Epoch 28/50\n",
            "4/4 - 0s - 16ms/step - accuracy: 0.7833 - loss: 0.6808 - val_accuracy: 0.8333 - val_loss: 0.6047\n",
            "Epoch 29/50\n",
            "4/4 - 0s - 29ms/step - accuracy: 0.7917 - loss: 0.6653 - val_accuracy: 0.8667 - val_loss: 0.5880\n",
            "Epoch 30/50\n",
            "4/4 - 0s - 10ms/step - accuracy: 0.7917 - loss: 0.6498 - val_accuracy: 0.8667 - val_loss: 0.5718\n",
            "Epoch 31/50\n",
            "4/4 - 0s - 12ms/step - accuracy: 0.7917 - loss: 0.6348 - val_accuracy: 0.8667 - val_loss: 0.5563\n",
            "Epoch 32/50\n",
            "4/4 - 0s - 16ms/step - accuracy: 0.8000 - loss: 0.6203 - val_accuracy: 0.8667 - val_loss: 0.5413\n",
            "Epoch 33/50\n",
            "4/4 - 0s - 12ms/step - accuracy: 0.8000 - loss: 0.6063 - val_accuracy: 0.8667 - val_loss: 0.5272\n",
            "Epoch 34/50\n",
            "4/4 - 0s - 10ms/step - accuracy: 0.8083 - loss: 0.5923 - val_accuracy: 0.8667 - val_loss: 0.5136\n",
            "Epoch 35/50\n",
            "4/4 - 0s - 10ms/step - accuracy: 0.8083 - loss: 0.5794 - val_accuracy: 0.8667 - val_loss: 0.5005\n",
            "Epoch 36/50\n",
            "4/4 - 0s - 10ms/step - accuracy: 0.8083 - loss: 0.5668 - val_accuracy: 0.8667 - val_loss: 0.4882\n",
            "Epoch 37/50\n",
            "4/4 - 0s - 14ms/step - accuracy: 0.8083 - loss: 0.5548 - val_accuracy: 0.8667 - val_loss: 0.4762\n",
            "Epoch 38/50\n",
            "4/4 - 0s - 10ms/step - accuracy: 0.8083 - loss: 0.5432 - val_accuracy: 0.8667 - val_loss: 0.4649\n",
            "Epoch 39/50\n",
            "4/4 - 0s - 11ms/step - accuracy: 0.8167 - loss: 0.5323 - val_accuracy: 0.8667 - val_loss: 0.4543\n",
            "Epoch 40/50\n",
            "4/4 - 0s - 10ms/step - accuracy: 0.8167 - loss: 0.5220 - val_accuracy: 0.8667 - val_loss: 0.4441\n",
            "Epoch 41/50\n",
            "4/4 - 0s - 15ms/step - accuracy: 0.8167 - loss: 0.5117 - val_accuracy: 0.8667 - val_loss: 0.4343\n",
            "Epoch 42/50\n",
            "4/4 - 0s - 10ms/step - accuracy: 0.8167 - loss: 0.5024 - val_accuracy: 0.8667 - val_loss: 0.4250\n",
            "Epoch 43/50\n",
            "4/4 - 0s - 10ms/step - accuracy: 0.8167 - loss: 0.4929 - val_accuracy: 0.8667 - val_loss: 0.4164\n",
            "Epoch 44/50\n",
            "4/4 - 0s - 14ms/step - accuracy: 0.8167 - loss: 0.4843 - val_accuracy: 0.8667 - val_loss: 0.4079\n",
            "Epoch 45/50\n",
            "4/4 - 0s - 10ms/step - accuracy: 0.8167 - loss: 0.4758 - val_accuracy: 0.8667 - val_loss: 0.3997\n",
            "Epoch 46/50\n",
            "4/4 - 0s - 17ms/step - accuracy: 0.8167 - loss: 0.4675 - val_accuracy: 0.8667 - val_loss: 0.3923\n",
            "Epoch 47/50\n",
            "4/4 - 0s - 11ms/step - accuracy: 0.8167 - loss: 0.4604 - val_accuracy: 0.8667 - val_loss: 0.3850\n",
            "Epoch 48/50\n",
            "4/4 - 0s - 14ms/step - accuracy: 0.8250 - loss: 0.4524 - val_accuracy: 0.8667 - val_loss: 0.3779\n",
            "Epoch 49/50\n",
            "4/4 - 0s - 11ms/step - accuracy: 0.8250 - loss: 0.4455 - val_accuracy: 0.9000 - val_loss: 0.3712\n",
            "Epoch 50/50\n",
            "4/4 - 0s - 12ms/step - accuracy: 0.8250 - loss: 0.4387 - val_accuracy: 0.9000 - val_loss: 0.3647\n"
          ]
        }
      ]
    },
    {
      "cell_type": "code",
      "source": [
        "#Evaluate the model\n",
        "test_loss_relu, test_acc_relu = model_relu.evaluate(X_test, y_test, verbose=2)\n",
        "print(f'Test Accuracy (All Relu) : {test_acc_relu}')"
      ],
      "metadata": {
        "colab": {
          "base_uri": "https://localhost:8080/"
        },
        "id": "QXsGNVa2w7iB",
        "outputId": "fd880e99-632d-4f6e-f587-c8a99e71f5ca"
      },
      "execution_count": null,
      "outputs": [
        {
          "output_type": "stream",
          "name": "stdout",
          "text": [
            "1/1 - 0s - 19ms/step - accuracy: 0.9000 - loss: 0.3647\n",
            "Test Accuracy (All Relu) : 0.8999999761581421\n"
          ]
        }
      ]
    },
    {
      "cell_type": "markdown",
      "source": [
        "## Apply Leaky Relu in all Layers"
      ],
      "metadata": {
        "id": "W3taBwQKx-Fj"
      }
    },
    {
      "cell_type": "code",
      "source": [
        "from tensorflow.keras.layers import LeakyReLU\n",
        "#Define Simple Neural Network using Leaky ReLU activation in all Layers\n",
        "def build_model_leaky_relu():\n",
        "  model = tf.keras.Sequential([\n",
        "      tf.keras.layers.Dense(10, activation=LeakyReLU(alpha=0.01), input_shape=(4,)),  #First Hidden Layer\n",
        "      #LeakyReLU(alpha=0.01),  #Add Leaky Relu with First Hidden Layer\n",
        "      tf.keras.layers.Dense(10, activation=LeakyReLU(alpha=0.01)), #Second Hidden Layer\n",
        "      #LeakyReLU(alpha=0.01), #Add Leaky Relu with Second Hidden Layer\n",
        "      tf.keras.layers.Dense(3, activation='softmax')  #Output Layer\n",
        "  ])\n",
        "  model.compile(optimizer='adam', loss='categorical_crossentropy', metrics=['accuracy'])\n",
        "  return model"
      ],
      "metadata": {
        "id": "8DUvI-4uxUvS"
      },
      "execution_count": null,
      "outputs": []
    },
    {
      "cell_type": "code",
      "source": [
        "#Build the model\n",
        "model_leaky_relu = build_model_leaky_relu()\n",
        "#Training the Model\n",
        "history_leaky_relu = model_leaky_relu.fit(X_train, y_train, epochs=50, validation_data=(X_test, y_test), verbose=2)"
      ],
      "metadata": {
        "colab": {
          "base_uri": "https://localhost:8080/"
        },
        "id": "Ero42nT30P27",
        "outputId": "c015579d-3156-4501-c9c1-7c59fa7fd119"
      },
      "execution_count": null,
      "outputs": [
        {
          "output_type": "stream",
          "name": "stdout",
          "text": [
            "Epoch 1/50\n"
          ]
        },
        {
          "output_type": "stream",
          "name": "stderr",
          "text": [
            "/usr/local/lib/python3.11/dist-packages/keras/src/layers/activations/leaky_relu.py:41: UserWarning: Argument `alpha` is deprecated. Use `negative_slope` instead.\n",
            "  warnings.warn(\n",
            "/usr/local/lib/python3.11/dist-packages/keras/src/layers/core/dense.py:87: UserWarning: Do not pass an `input_shape`/`input_dim` argument to a layer. When using Sequential models, prefer using an `Input(shape)` object as the first layer in the model instead.\n",
            "  super().__init__(activity_regularizer=activity_regularizer, **kwargs)\n"
          ]
        },
        {
          "output_type": "stream",
          "name": "stdout",
          "text": [
            "4/4 - 2s - 538ms/step - accuracy: 0.1083 - loss: 1.4006 - val_accuracy: 0.0333 - val_loss: 1.3672\n",
            "Epoch 2/50\n",
            "4/4 - 0s - 14ms/step - accuracy: 0.1000 - loss: 1.3580 - val_accuracy: 0.0333 - val_loss: 1.3283\n",
            "Epoch 3/50\n",
            "4/4 - 0s - 13ms/step - accuracy: 0.1000 - loss: 1.3201 - val_accuracy: 0.0333 - val_loss: 1.2914\n",
            "Epoch 4/50\n",
            "4/4 - 0s - 14ms/step - accuracy: 0.0917 - loss: 1.2821 - val_accuracy: 0.0333 - val_loss: 1.2570\n",
            "Epoch 5/50\n",
            "4/4 - 0s - 14ms/step - accuracy: 0.0917 - loss: 1.2467 - val_accuracy: 0.0333 - val_loss: 1.2243\n",
            "Epoch 6/50\n",
            "4/4 - 0s - 10ms/step - accuracy: 0.0917 - loss: 1.2169 - val_accuracy: 0.0333 - val_loss: 1.1927\n",
            "Epoch 7/50\n",
            "4/4 - 0s - 10ms/step - accuracy: 0.0917 - loss: 1.1861 - val_accuracy: 0.0333 - val_loss: 1.1629\n",
            "Epoch 8/50\n",
            "4/4 - 0s - 12ms/step - accuracy: 0.0833 - loss: 1.1568 - val_accuracy: 0.0667 - val_loss: 1.1353\n",
            "Epoch 9/50\n",
            "4/4 - 0s - 10ms/step - accuracy: 0.0917 - loss: 1.1295 - val_accuracy: 0.1000 - val_loss: 1.1091\n",
            "Epoch 10/50\n",
            "4/4 - 0s - 10ms/step - accuracy: 0.1750 - loss: 1.1053 - val_accuracy: 0.3000 - val_loss: 1.0840\n",
            "Epoch 11/50\n",
            "4/4 - 0s - 11ms/step - accuracy: 0.2667 - loss: 1.0804 - val_accuracy: 0.4000 - val_loss: 1.0607\n",
            "Epoch 12/50\n",
            "4/4 - 0s - 10ms/step - accuracy: 0.3750 - loss: 1.0592 - val_accuracy: 0.4333 - val_loss: 1.0384\n",
            "Epoch 13/50\n",
            "4/4 - 0s - 14ms/step - accuracy: 0.4417 - loss: 1.0377 - val_accuracy: 0.5000 - val_loss: 1.0176\n",
            "Epoch 14/50\n",
            "4/4 - 0s - 14ms/step - accuracy: 0.4917 - loss: 1.0175 - val_accuracy: 0.5333 - val_loss: 0.9980\n",
            "Epoch 15/50\n",
            "4/4 - 0s - 10ms/step - accuracy: 0.5083 - loss: 1.0003 - val_accuracy: 0.6000 - val_loss: 0.9774\n",
            "Epoch 16/50\n",
            "4/4 - 0s - 10ms/step - accuracy: 0.5083 - loss: 0.9806 - val_accuracy: 0.6667 - val_loss: 0.9566\n",
            "Epoch 17/50\n",
            "4/4 - 0s - 14ms/step - accuracy: 0.5083 - loss: 0.9619 - val_accuracy: 0.6667 - val_loss: 0.9363\n",
            "Epoch 18/50\n",
            "4/4 - 0s - 11ms/step - accuracy: 0.5250 - loss: 0.9434 - val_accuracy: 0.6667 - val_loss: 0.9163\n",
            "Epoch 19/50\n",
            "4/4 - 0s - 10ms/step - accuracy: 0.5417 - loss: 0.9234 - val_accuracy: 0.6667 - val_loss: 0.8974\n",
            "Epoch 20/50\n",
            "4/4 - 0s - 11ms/step - accuracy: 0.5667 - loss: 0.9048 - val_accuracy: 0.7000 - val_loss: 0.8786\n",
            "Epoch 21/50\n",
            "4/4 - 0s - 15ms/step - accuracy: 0.6000 - loss: 0.8872 - val_accuracy: 0.7000 - val_loss: 0.8598\n",
            "Epoch 22/50\n",
            "4/4 - 0s - 14ms/step - accuracy: 0.6083 - loss: 0.8697 - val_accuracy: 0.7000 - val_loss: 0.8417\n",
            "Epoch 23/50\n",
            "4/4 - 0s - 13ms/step - accuracy: 0.6167 - loss: 0.8529 - val_accuracy: 0.7000 - val_loss: 0.8245\n",
            "Epoch 24/50\n",
            "4/4 - 0s - 10ms/step - accuracy: 0.6333 - loss: 0.8371 - val_accuracy: 0.7333 - val_loss: 0.8079\n",
            "Epoch 25/50\n",
            "4/4 - 0s - 10ms/step - accuracy: 0.6583 - loss: 0.8213 - val_accuracy: 0.7333 - val_loss: 0.7920\n",
            "Epoch 26/50\n",
            "4/4 - 0s - 14ms/step - accuracy: 0.6583 - loss: 0.8060 - val_accuracy: 0.7667 - val_loss: 0.7771\n",
            "Epoch 27/50\n",
            "4/4 - 0s - 16ms/step - accuracy: 0.6667 - loss: 0.7921 - val_accuracy: 0.7333 - val_loss: 0.7626\n",
            "Epoch 28/50\n",
            "4/4 - 0s - 10ms/step - accuracy: 0.6667 - loss: 0.7790 - val_accuracy: 0.7333 - val_loss: 0.7489\n",
            "Epoch 29/50\n",
            "4/4 - 0s - 14ms/step - accuracy: 0.6750 - loss: 0.7656 - val_accuracy: 0.7333 - val_loss: 0.7356\n",
            "Epoch 30/50\n",
            "4/4 - 0s - 10ms/step - accuracy: 0.6750 - loss: 0.7522 - val_accuracy: 0.7333 - val_loss: 0.7229\n",
            "Epoch 31/50\n",
            "4/4 - 0s - 10ms/step - accuracy: 0.7000 - loss: 0.7397 - val_accuracy: 0.7333 - val_loss: 0.7101\n",
            "Epoch 32/50\n",
            "4/4 - 0s - 12ms/step - accuracy: 0.7000 - loss: 0.7277 - val_accuracy: 0.7333 - val_loss: 0.6974\n",
            "Epoch 33/50\n",
            "4/4 - 0s - 10ms/step - accuracy: 0.7083 - loss: 0.7154 - val_accuracy: 0.7333 - val_loss: 0.6845\n",
            "Epoch 34/50\n",
            "4/4 - 0s - 14ms/step - accuracy: 0.7333 - loss: 0.7030 - val_accuracy: 0.7667 - val_loss: 0.6717\n",
            "Epoch 35/50\n",
            "4/4 - 0s - 14ms/step - accuracy: 0.7667 - loss: 0.6903 - val_accuracy: 0.7667 - val_loss: 0.6583\n",
            "Epoch 36/50\n",
            "4/4 - 0s - 10ms/step - accuracy: 0.7833 - loss: 0.6775 - val_accuracy: 0.7667 - val_loss: 0.6446\n",
            "Epoch 37/50\n",
            "4/4 - 0s - 10ms/step - accuracy: 0.8000 - loss: 0.6642 - val_accuracy: 0.7667 - val_loss: 0.6312\n",
            "Epoch 38/50\n",
            "4/4 - 0s - 10ms/step - accuracy: 0.8167 - loss: 0.6509 - val_accuracy: 0.8000 - val_loss: 0.6177\n",
            "Epoch 39/50\n",
            "4/4 - 0s - 16ms/step - accuracy: 0.8167 - loss: 0.6370 - val_accuracy: 0.8333 - val_loss: 0.6033\n",
            "Epoch 40/50\n",
            "4/4 - 0s - 13ms/step - accuracy: 0.8250 - loss: 0.6223 - val_accuracy: 0.8333 - val_loss: 0.5883\n",
            "Epoch 41/50\n",
            "4/4 - 0s - 13ms/step - accuracy: 0.8250 - loss: 0.6083 - val_accuracy: 0.8333 - val_loss: 0.5731\n",
            "Epoch 42/50\n",
            "4/4 - 0s - 12ms/step - accuracy: 0.8333 - loss: 0.5941 - val_accuracy: 0.8333 - val_loss: 0.5577\n",
            "Epoch 43/50\n",
            "4/4 - 0s - 10ms/step - accuracy: 0.8333 - loss: 0.5796 - val_accuracy: 0.8333 - val_loss: 0.5429\n",
            "Epoch 44/50\n",
            "4/4 - 0s - 10ms/step - accuracy: 0.8333 - loss: 0.5662 - val_accuracy: 0.8333 - val_loss: 0.5287\n",
            "Epoch 45/50\n",
            "4/4 - 0s - 14ms/step - accuracy: 0.8417 - loss: 0.5537 - val_accuracy: 0.8333 - val_loss: 0.5149\n",
            "Epoch 46/50\n",
            "4/4 - 0s - 11ms/step - accuracy: 0.8417 - loss: 0.5411 - val_accuracy: 0.8333 - val_loss: 0.5019\n",
            "Epoch 47/50\n",
            "4/4 - 0s - 11ms/step - accuracy: 0.8417 - loss: 0.5293 - val_accuracy: 0.8333 - val_loss: 0.4896\n",
            "Epoch 48/50\n",
            "4/4 - 0s - 11ms/step - accuracy: 0.8500 - loss: 0.5181 - val_accuracy: 0.8333 - val_loss: 0.4778\n",
            "Epoch 49/50\n",
            "4/4 - 0s - 10ms/step - accuracy: 0.8500 - loss: 0.5072 - val_accuracy: 0.8333 - val_loss: 0.4665\n",
            "Epoch 50/50\n",
            "4/4 - 0s - 14ms/step - accuracy: 0.8500 - loss: 0.4971 - val_accuracy: 0.8333 - val_loss: 0.4557\n"
          ]
        }
      ]
    },
    {
      "cell_type": "code",
      "source": [
        "#Evaluate the Model\n",
        "test_loss_leaky_relu, test_acc_leaky_relu = model_leaky_relu.evaluate(X_test, y_test, verbose=2)\n",
        "print(f'Test Accuracy (Leaky Relu): {test_acc_leaky_relu}')"
      ],
      "metadata": {
        "colab": {
          "base_uri": "https://localhost:8080/"
        },
        "id": "HI_HojJe0lHD",
        "outputId": "d5c3bc67-87ce-4af0-e7f8-75daf3048e7e"
      },
      "execution_count": null,
      "outputs": [
        {
          "output_type": "stream",
          "name": "stdout",
          "text": [
            "1/1 - 0s - 26ms/step - accuracy: 0.8333 - loss: 0.4557\n",
            "Test Accuracy (Leaky Relu): 0.8333333134651184\n"
          ]
        }
      ]
    },
    {
      "cell_type": "markdown",
      "source": [
        "### Visualize the Training and Validation Accuracy"
      ],
      "metadata": {
        "id": "oIawyh011xqK"
      }
    },
    {
      "cell_type": "code",
      "source": [
        "import matplotlib.pyplot as plt\n",
        "\n",
        "# Plot training and validation accuracy\n",
        "plt.plot(history_sigmoid.history['accuracy'], label='Sigmoid Accuracy')\n",
        "plt.plot(history_relu.history['accuracy'], label='Relu Accuracy')\n",
        "plt.plot(history_leaky_relu.history['accuracy'], label='Leaky Relu Accuracy')\n",
        "plt.xlabel('Epochs')\n",
        "plt.ylabel('Accuracy')\n",
        "plt.legend()\n",
        "plt.show()"
      ],
      "metadata": {
        "colab": {
          "base_uri": "https://localhost:8080/",
          "height": 449
        },
        "id": "cZsbzZI71Cz7",
        "outputId": "f41dfe4c-96e9-4380-a505-5c3967d173c8"
      },
      "execution_count": null,
      "outputs": [
        {
          "output_type": "display_data",
          "data": {
            "text/plain": [
              "<Figure size 640x480 with 1 Axes>"
            ],
            "image/png": "[encoded data removed]"
          },
          "metadata": {}
        }
      ]
    },
    {
      "cell_type": "code",
      "source": [],
      "metadata": {
        "id": "GPC8fAEz2xBK"
      },
      "execution_count": null,
      "outputs": []
    }
  ]
}